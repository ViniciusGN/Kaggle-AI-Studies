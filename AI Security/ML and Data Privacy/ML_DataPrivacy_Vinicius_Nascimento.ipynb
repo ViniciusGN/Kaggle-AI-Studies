{
  "cells": [
    {
      "cell_type": "code",
      "source": [
        "print(f\"\"\"\n",
        "        Élève         : Vinicius Nascimento\n",
        "        Num Étudiant  : 00A01916\n",
        "        Date          : 06 avril 2025\n",
        "        Classe        : Introduction a Securite des Intelligence Artificielle\n",
        "        École         : ENSICAEN\n",
        "        Formation     : CyIA Informatique 2eme année\n",
        "\"\"\")"
      ],
      "metadata": {
        "colab": {
          "base_uri": "https://localhost:8080/"
        },
        "id": "u27taDKVd9lg",
        "outputId": "8d8fa9b8-8012-4a36-8ae2-2c54fc71a178"
      },
      "execution_count": 1,
      "outputs": [
        {
          "output_type": "stream",
          "name": "stdout",
          "text": [
            "\n",
            "        Élève         : Vinicius Nascimento\n",
            "        Num Étudiant  : 00A01916\n",
            "        Date          : 06 avril 2025\n",
            "        Classe        : Introduction a Securite des Intelligence Artificielle\n",
            "        École         : ENSICAEN\n",
            "        Formation     : CyIA Informatique 2eme année\n",
            "\n"
          ]
        }
      ]
    },
    {
      "cell_type": "markdown",
      "metadata": {
        "id": "VqnfnK3Zovlw"
      },
      "source": [
        "# Privacy for Machine Learning - Hands On Session\n",
        "\n",
        "Examples largely inspired by [Near, Joseph P and Chiké Abuah (2022). “Programming Differential Privacy”](https://programming-dp.com/cover.html) (great book to learn about DP and related Python implementations!)\n",
        "\n",
        "We will use two datasets:\n",
        "- `not_anonymised_df`: dataset from census (recensement) which contains direct identifiers such as Name, SSN\n",
        "- `df_vote`: dataset (public) of voting registrations containing Name, SSN, Date of Birth, Zip\n",
        "\n",
        "Our aim is to find a way of using the `not_anonymised_df` and extract some information while enforcing user privacy.\n",
        "\n",
        "We will:\n",
        "- Dee how **anonymising a dataset by solely removing direct identifiers is not enough to guarantee data privacy**\n",
        "- Perform a **Linkage Attack** on anonymised dataset\n",
        "- Make the dataset $K$-anonymous\n",
        "\n",
        "If you have questions related to the course/hands on session, feel free to ask the questions at benjamin.sykes@unicaen.fr"
      ]
    },
    {
      "cell_type": "markdown",
      "metadata": {
        "id": "zj25U6Toovl0"
      },
      "source": [
        "---\n",
        "\n",
        "Imports\n",
        "\n",
        "All these libraries except `io` are not part of the default python librairies\n",
        "You can download them (preferably in a virtual environment running)\n",
        "\n",
        "```bash\n",
        "# create virtual environment\n",
        "python -m virtualenv myVirtualEnv\n",
        "\n",
        "# activate virtual environment\n",
        "source myVirtualEnv/bin/activate\n",
        "\n",
        "# install the relevant packages\n",
        "pip install numpy\n",
        "pip install matplotlib\n",
        "pip install requests\n",
        "pip install pandas\n",
        "```"
      ]
    },
    {
      "cell_type": "code",
      "execution_count": 3,
      "metadata": {
        "id": "pySrjEI_ovl1"
      },
      "outputs": [],
      "source": [
        "from io import BytesIO\n",
        "\n",
        "import numpy as np\n",
        "import matplotlib.pyplot as plt\n",
        "import pandas as pd\n",
        "import requests"
      ]
    },
    {
      "cell_type": "markdown",
      "metadata": {
        "id": "HiOdpPe3ovl2"
      },
      "source": [
        "# 1. Making a dataset private"
      ]
    },
    {
      "cell_type": "markdown",
      "metadata": {
        "id": "KD_KTifrovl3"
      },
      "source": [
        "## 1.1 Starting with the datasets"
      ]
    },
    {
      "cell_type": "code",
      "execution_count": 18,
      "metadata": {
        "id": "hZFciNi2ovl3"
      },
      "outputs": [],
      "source": [
        "# Loads the datasets as a pandas dataframe\n",
        "def download_and_load_datasets():\n",
        "    r1 = requests.get(\"https://anandmone.com/privacy_for_ml_dataset.csv\")\n",
        "    r2 = requests.get(\"https://anandmone.com/dummy_registration.csv\")\n",
        "    not_anonymised_df = pd.read_csv(BytesIO(r1.content))\n",
        "    np.random.seed(123)\n",
        "    df_vote = pd.read_csv(BytesIO(r2.content)).sample(frac=1, ignore_index=True)\n",
        "    return not_anonymised_df, df_vote\n",
        "\n",
        "not_anonymised_df, df_vote = download_and_load_datasets()"
      ]
    },
    {
      "cell_type": "markdown",
      "metadata": {
        "id": "vYFtpx8Kovl4"
      },
      "source": [
        "<font color=\"green\"><b>¿Q?:</b> Show the first rows of both datasets</font>\n",
        "\n",
        "_Tip_: on Linux you can use the `head` command to view the first line of a file. Pandas has a similar method"
      ]
    },
    {
      "cell_type": "code",
      "execution_count": 19,
      "metadata": {
        "colab": {
          "base_uri": "https://localhost:8080/",
          "height": 310
        },
        "id": "ALLbw6JDovl4",
        "outputId": "fa7a34be-d343-4c51-b3a8-29bb81c1c2e4"
      },
      "outputs": [
        {
          "output_type": "execute_result",
          "data": {
            "text/plain": [
              "               Name         DOB          SSN    Zip         Workclass  \\\n",
              "0  Igor Scottesmoor   10/6/1962  347-08-4981  99167  Self-emp-not-inc   \n",
              "1      Aggi Buckner   7/20/2000  881-24-1261  31807           Private   \n",
              "2    Jannelle Lince  11/19/1985  170-76-5978  15860           Private   \n",
              "3        May Pigden    2/6/1956  531-17-9708  14965           Private   \n",
              "4    Idaline Snodin   8/20/1955  189-55-8894  17739           Private   \n",
              "\n",
              "      Education  Education-Num      Marital Status       Occupation  \\\n",
              "0     Bachelors             13       Never-married  Protective-serv   \n",
              "1  Some-college             10       Never-married     Craft-repair   \n",
              "2       HS-grad              9       Never-married            Sales   \n",
              "3       1st-4th              2  Married-civ-spouse    Other-service   \n",
              "4     Bachelors             13  Married-civ-spouse  Exec-managerial   \n",
              "\n",
              "    Relationship   Race     Sex  Hours per week        Country Target  Age  \\\n",
              "0  Not-in-family  White    Male              55  United-States   >50K   61   \n",
              "1  Not-in-family  Black    Male              28  United-States  <=50K   23   \n",
              "2      Own-child  White  Female              40  United-States  <=50K   38   \n",
              "3        Husband  White    Male              53         Mexico  <=50K   67   \n",
              "4        Husband  White    Male              50         France   >50K   68   \n",
              "\n",
              "   Capital Gain  Capital Loss  \n",
              "0             0             0  \n",
              "1             0             0  \n",
              "2             0             0  \n",
              "3             0             0  \n",
              "4             0             0  "
            ],
            "text/html": [
              "\n",
              "  <div id=\"df-9c4fdd75-8a11-40d7-a786-0cefefc51f3f\" class=\"colab-df-container\">\n",
              "    <div>\n",
              "<style scoped>\n",
              "    .dataframe tbody tr th:only-of-type {\n",
              "        vertical-align: middle;\n",
              "    }\n",
              "\n",
              "    .dataframe tbody tr th {\n",
              "        vertical-align: top;\n",
              "    }\n",
              "\n",
              "    .dataframe thead th {\n",
              "        text-align: right;\n",
              "    }\n",
              "</style>\n",
              "<table border=\"1\" class=\"dataframe\">\n",
              "  <thead>\n",
              "    <tr style=\"text-align: right;\">\n",
              "      <th></th>\n",
              "      <th>Name</th>\n",
              "      <th>DOB</th>\n",
              "      <th>SSN</th>\n",
              "      <th>Zip</th>\n",
              "      <th>Workclass</th>\n",
              "      <th>Education</th>\n",
              "      <th>Education-Num</th>\n",
              "      <th>Marital Status</th>\n",
              "      <th>Occupation</th>\n",
              "      <th>Relationship</th>\n",
              "      <th>Race</th>\n",
              "      <th>Sex</th>\n",
              "      <th>Hours per week</th>\n",
              "      <th>Country</th>\n",
              "      <th>Target</th>\n",
              "      <th>Age</th>\n",
              "      <th>Capital Gain</th>\n",
              "      <th>Capital Loss</th>\n",
              "    </tr>\n",
              "  </thead>\n",
              "  <tbody>\n",
              "    <tr>\n",
              "      <th>0</th>\n",
              "      <td>Igor Scottesmoor</td>\n",
              "      <td>10/6/1962</td>\n",
              "      <td>347-08-4981</td>\n",
              "      <td>99167</td>\n",
              "      <td>Self-emp-not-inc</td>\n",
              "      <td>Bachelors</td>\n",
              "      <td>13</td>\n",
              "      <td>Never-married</td>\n",
              "      <td>Protective-serv</td>\n",
              "      <td>Not-in-family</td>\n",
              "      <td>White</td>\n",
              "      <td>Male</td>\n",
              "      <td>55</td>\n",
              "      <td>United-States</td>\n",
              "      <td>&gt;50K</td>\n",
              "      <td>61</td>\n",
              "      <td>0</td>\n",
              "      <td>0</td>\n",
              "    </tr>\n",
              "    <tr>\n",
              "      <th>1</th>\n",
              "      <td>Aggi Buckner</td>\n",
              "      <td>7/20/2000</td>\n",
              "      <td>881-24-1261</td>\n",
              "      <td>31807</td>\n",
              "      <td>Private</td>\n",
              "      <td>Some-college</td>\n",
              "      <td>10</td>\n",
              "      <td>Never-married</td>\n",
              "      <td>Craft-repair</td>\n",
              "      <td>Not-in-family</td>\n",
              "      <td>Black</td>\n",
              "      <td>Male</td>\n",
              "      <td>28</td>\n",
              "      <td>United-States</td>\n",
              "      <td>&lt;=50K</td>\n",
              "      <td>23</td>\n",
              "      <td>0</td>\n",
              "      <td>0</td>\n",
              "    </tr>\n",
              "    <tr>\n",
              "      <th>2</th>\n",
              "      <td>Jannelle Lince</td>\n",
              "      <td>11/19/1985</td>\n",
              "      <td>170-76-5978</td>\n",
              "      <td>15860</td>\n",
              "      <td>Private</td>\n",
              "      <td>HS-grad</td>\n",
              "      <td>9</td>\n",
              "      <td>Never-married</td>\n",
              "      <td>Sales</td>\n",
              "      <td>Own-child</td>\n",
              "      <td>White</td>\n",
              "      <td>Female</td>\n",
              "      <td>40</td>\n",
              "      <td>United-States</td>\n",
              "      <td>&lt;=50K</td>\n",
              "      <td>38</td>\n",
              "      <td>0</td>\n",
              "      <td>0</td>\n",
              "    </tr>\n",
              "    <tr>\n",
              "      <th>3</th>\n",
              "      <td>May Pigden</td>\n",
              "      <td>2/6/1956</td>\n",
              "      <td>531-17-9708</td>\n",
              "      <td>14965</td>\n",
              "      <td>Private</td>\n",
              "      <td>1st-4th</td>\n",
              "      <td>2</td>\n",
              "      <td>Married-civ-spouse</td>\n",
              "      <td>Other-service</td>\n",
              "      <td>Husband</td>\n",
              "      <td>White</td>\n",
              "      <td>Male</td>\n",
              "      <td>53</td>\n",
              "      <td>Mexico</td>\n",
              "      <td>&lt;=50K</td>\n",
              "      <td>67</td>\n",
              "      <td>0</td>\n",
              "      <td>0</td>\n",
              "    </tr>\n",
              "    <tr>\n",
              "      <th>4</th>\n",
              "      <td>Idaline Snodin</td>\n",
              "      <td>8/20/1955</td>\n",
              "      <td>189-55-8894</td>\n",
              "      <td>17739</td>\n",
              "      <td>Private</td>\n",
              "      <td>Bachelors</td>\n",
              "      <td>13</td>\n",
              "      <td>Married-civ-spouse</td>\n",
              "      <td>Exec-managerial</td>\n",
              "      <td>Husband</td>\n",
              "      <td>White</td>\n",
              "      <td>Male</td>\n",
              "      <td>50</td>\n",
              "      <td>France</td>\n",
              "      <td>&gt;50K</td>\n",
              "      <td>68</td>\n",
              "      <td>0</td>\n",
              "      <td>0</td>\n",
              "    </tr>\n",
              "  </tbody>\n",
              "</table>\n",
              "</div>\n",
              "    <div class=\"colab-df-buttons\">\n",
              "\n",
              "  <div class=\"colab-df-container\">\n",
              "    <button class=\"colab-df-convert\" onclick=\"convertToInteractive('df-9c4fdd75-8a11-40d7-a786-0cefefc51f3f')\"\n",
              "            title=\"Convert this dataframe to an interactive table.\"\n",
              "            style=\"display:none;\">\n",
              "\n",
              "  <svg xmlns=\"http://www.w3.org/2000/svg\" height=\"24px\" viewBox=\"0 -960 960 960\">\n",
              "    <path d=\"M120-120v-720h720v720H120Zm60-500h600v-160H180v160Zm220 220h160v-160H400v160Zm0 220h160v-160H400v160ZM180-400h160v-160H180v160Zm440 0h160v-160H620v160ZM180-180h160v-160H180v160Zm440 0h160v-160H620v160Z\"/>\n",
              "  </svg>\n",
              "    </button>\n",
              "\n",
              "  <style>\n",
              "    .colab-df-container {\n",
              "      display:flex;\n",
              "      gap: 12px;\n",
              "    }\n",
              "\n",
              "    .colab-df-convert {\n",
              "      background-color: #E8F0FE;\n",
              "      border: none;\n",
              "      border-radius: 50%;\n",
              "      cursor: pointer;\n",
              "      display: none;\n",
              "      fill: #1967D2;\n",
              "      height: 32px;\n",
              "      padding: 0 0 0 0;\n",
              "      width: 32px;\n",
              "    }\n",
              "\n",
              "    .colab-df-convert:hover {\n",
              "      background-color: #E2EBFA;\n",
              "      box-shadow: 0px 1px 2px rgba(60, 64, 67, 0.3), 0px 1px 3px 1px rgba(60, 64, 67, 0.15);\n",
              "      fill: #174EA6;\n",
              "    }\n",
              "\n",
              "    .colab-df-buttons div {\n",
              "      margin-bottom: 4px;\n",
              "    }\n",
              "\n",
              "    [theme=dark] .colab-df-convert {\n",
              "      background-color: #3B4455;\n",
              "      fill: #D2E3FC;\n",
              "    }\n",
              "\n",
              "    [theme=dark] .colab-df-convert:hover {\n",
              "      background-color: #434B5C;\n",
              "      box-shadow: 0px 1px 3px 1px rgba(0, 0, 0, 0.15);\n",
              "      filter: drop-shadow(0px 1px 2px rgba(0, 0, 0, 0.3));\n",
              "      fill: #FFFFFF;\n",
              "    }\n",
              "  </style>\n",
              "\n",
              "    <script>\n",
              "      const buttonEl =\n",
              "        document.querySelector('#df-9c4fdd75-8a11-40d7-a786-0cefefc51f3f button.colab-df-convert');\n",
              "      buttonEl.style.display =\n",
              "        google.colab.kernel.accessAllowed ? 'block' : 'none';\n",
              "\n",
              "      async function convertToInteractive(key) {\n",
              "        const element = document.querySelector('#df-9c4fdd75-8a11-40d7-a786-0cefefc51f3f');\n",
              "        const dataTable =\n",
              "          await google.colab.kernel.invokeFunction('convertToInteractive',\n",
              "                                                    [key], {});\n",
              "        if (!dataTable) return;\n",
              "\n",
              "        const docLinkHtml = 'Like what you see? Visit the ' +\n",
              "          '<a target=\"_blank\" href=https://colab.research.google.com/notebooks/data_table.ipynb>data table notebook</a>'\n",
              "          + ' to learn more about interactive tables.';\n",
              "        element.innerHTML = '';\n",
              "        dataTable['output_type'] = 'display_data';\n",
              "        await google.colab.output.renderOutput(dataTable, element);\n",
              "        const docLink = document.createElement('div');\n",
              "        docLink.innerHTML = docLinkHtml;\n",
              "        element.appendChild(docLink);\n",
              "      }\n",
              "    </script>\n",
              "  </div>\n",
              "\n",
              "\n",
              "<div id=\"df-fdf2c762-e359-4a8e-93f4-5145038c5246\">\n",
              "  <button class=\"colab-df-quickchart\" onclick=\"quickchart('df-fdf2c762-e359-4a8e-93f4-5145038c5246')\"\n",
              "            title=\"Suggest charts\"\n",
              "            style=\"display:none;\">\n",
              "\n",
              "<svg xmlns=\"http://www.w3.org/2000/svg\" height=\"24px\"viewBox=\"0 0 24 24\"\n",
              "     width=\"24px\">\n",
              "    <g>\n",
              "        <path d=\"M19 3H5c-1.1 0-2 .9-2 2v14c0 1.1.9 2 2 2h14c1.1 0 2-.9 2-2V5c0-1.1-.9-2-2-2zM9 17H7v-7h2v7zm4 0h-2V7h2v10zm4 0h-2v-4h2v4z\"/>\n",
              "    </g>\n",
              "</svg>\n",
              "  </button>\n",
              "\n",
              "<style>\n",
              "  .colab-df-quickchart {\n",
              "      --bg-color: #E8F0FE;\n",
              "      --fill-color: #1967D2;\n",
              "      --hover-bg-color: #E2EBFA;\n",
              "      --hover-fill-color: #174EA6;\n",
              "      --disabled-fill-color: #AAA;\n",
              "      --disabled-bg-color: #DDD;\n",
              "  }\n",
              "\n",
              "  [theme=dark] .colab-df-quickchart {\n",
              "      --bg-color: #3B4455;\n",
              "      --fill-color: #D2E3FC;\n",
              "      --hover-bg-color: #434B5C;\n",
              "      --hover-fill-color: #FFFFFF;\n",
              "      --disabled-bg-color: #3B4455;\n",
              "      --disabled-fill-color: #666;\n",
              "  }\n",
              "\n",
              "  .colab-df-quickchart {\n",
              "    background-color: var(--bg-color);\n",
              "    border: none;\n",
              "    border-radius: 50%;\n",
              "    cursor: pointer;\n",
              "    display: none;\n",
              "    fill: var(--fill-color);\n",
              "    height: 32px;\n",
              "    padding: 0;\n",
              "    width: 32px;\n",
              "  }\n",
              "\n",
              "  .colab-df-quickchart:hover {\n",
              "    background-color: var(--hover-bg-color);\n",
              "    box-shadow: 0 1px 2px rgba(60, 64, 67, 0.3), 0 1px 3px 1px rgba(60, 64, 67, 0.15);\n",
              "    fill: var(--button-hover-fill-color);\n",
              "  }\n",
              "\n",
              "  .colab-df-quickchart-complete:disabled,\n",
              "  .colab-df-quickchart-complete:disabled:hover {\n",
              "    background-color: var(--disabled-bg-color);\n",
              "    fill: var(--disabled-fill-color);\n",
              "    box-shadow: none;\n",
              "  }\n",
              "\n",
              "  .colab-df-spinner {\n",
              "    border: 2px solid var(--fill-color);\n",
              "    border-color: transparent;\n",
              "    border-bottom-color: var(--fill-color);\n",
              "    animation:\n",
              "      spin 1s steps(1) infinite;\n",
              "  }\n",
              "\n",
              "  @keyframes spin {\n",
              "    0% {\n",
              "      border-color: transparent;\n",
              "      border-bottom-color: var(--fill-color);\n",
              "      border-left-color: var(--fill-color);\n",
              "    }\n",
              "    20% {\n",
              "      border-color: transparent;\n",
              "      border-left-color: var(--fill-color);\n",
              "      border-top-color: var(--fill-color);\n",
              "    }\n",
              "    30% {\n",
              "      border-color: transparent;\n",
              "      border-left-color: var(--fill-color);\n",
              "      border-top-color: var(--fill-color);\n",
              "      border-right-color: var(--fill-color);\n",
              "    }\n",
              "    40% {\n",
              "      border-color: transparent;\n",
              "      border-right-color: var(--fill-color);\n",
              "      border-top-color: var(--fill-color);\n",
              "    }\n",
              "    60% {\n",
              "      border-color: transparent;\n",
              "      border-right-color: var(--fill-color);\n",
              "    }\n",
              "    80% {\n",
              "      border-color: transparent;\n",
              "      border-right-color: var(--fill-color);\n",
              "      border-bottom-color: var(--fill-color);\n",
              "    }\n",
              "    90% {\n",
              "      border-color: transparent;\n",
              "      border-bottom-color: var(--fill-color);\n",
              "    }\n",
              "  }\n",
              "</style>\n",
              "\n",
              "  <script>\n",
              "    async function quickchart(key) {\n",
              "      const quickchartButtonEl =\n",
              "        document.querySelector('#' + key + ' button');\n",
              "      quickchartButtonEl.disabled = true;  // To prevent multiple clicks.\n",
              "      quickchartButtonEl.classList.add('colab-df-spinner');\n",
              "      try {\n",
              "        const charts = await google.colab.kernel.invokeFunction(\n",
              "            'suggestCharts', [key], {});\n",
              "      } catch (error) {\n",
              "        console.error('Error during call to suggestCharts:', error);\n",
              "      }\n",
              "      quickchartButtonEl.classList.remove('colab-df-spinner');\n",
              "      quickchartButtonEl.classList.add('colab-df-quickchart-complete');\n",
              "    }\n",
              "    (() => {\n",
              "      let quickchartButtonEl =\n",
              "        document.querySelector('#df-fdf2c762-e359-4a8e-93f4-5145038c5246 button');\n",
              "      quickchartButtonEl.style.display =\n",
              "        google.colab.kernel.accessAllowed ? 'block' : 'none';\n",
              "    })();\n",
              "  </script>\n",
              "</div>\n",
              "\n",
              "    </div>\n",
              "  </div>\n"
            ],
            "application/vnd.google.colaboratory.intrinsic+json": {
              "type": "dataframe",
              "variable_name": "not_anonymised_df",
              "summary": "{\n  \"name\": \"not_anonymised_df\",\n  \"rows\": 32566,\n  \"fields\": [\n    {\n      \"column\": \"Name\",\n      \"properties\": {\n        \"dtype\": \"string\",\n        \"num_unique_values\": 32564,\n        \"samples\": [\n          \"Cheslie Corstan\",\n          \"Bevvy Dossit\",\n          \"Ailbert Farncombe\"\n        ],\n        \"semantic_type\": \"\",\n        \"description\": \"\"\n      }\n    },\n    {\n      \"column\": \"DOB\",\n      \"properties\": {\n        \"dtype\": \"object\",\n        \"num_unique_values\": 17311,\n        \"samples\": [\n          \"3/10/1961\",\n          \"9/29/1998\",\n          \"9/15/1978\"\n        ],\n        \"semantic_type\": \"\",\n        \"description\": \"\"\n      }\n    },\n    {\n      \"column\": \"SSN\",\n      \"properties\": {\n        \"dtype\": \"string\",\n        \"num_unique_values\": 32562,\n        \"samples\": [\n          \"437-09-6482\",\n          \"848-76-4172\",\n          \"509-89-9469\"\n        ],\n        \"semantic_type\": \"\",\n        \"description\": \"\"\n      }\n    },\n    {\n      \"column\": \"Zip\",\n      \"properties\": {\n        \"dtype\": \"number\",\n        \"std\": 28939,\n        \"min\": 4,\n        \"max\": 99999,\n        \"num_unique_values\": 27791,\n        \"samples\": [\n          62523,\n          26760,\n          51014\n        ],\n        \"semantic_type\": \"\",\n        \"description\": \"\"\n      }\n    },\n    {\n      \"column\": \"Workclass\",\n      \"properties\": {\n        \"dtype\": \"category\",\n        \"num_unique_values\": 11,\n        \"samples\": [\n          \"Federal-gov\",\n          \"Self-emp-not-inc\",\n          \"Trader\"\n        ],\n        \"semantic_type\": \"\",\n        \"description\": \"\"\n      }\n    },\n    {\n      \"column\": \"Education\",\n      \"properties\": {\n        \"dtype\": \"category\",\n        \"num_unique_values\": 17,\n        \"samples\": [\n          \"Bachelors\",\n          \"Some-college\",\n          \"5th-6th\"\n        ],\n        \"semantic_type\": \"\",\n        \"description\": \"\"\n      }\n    },\n    {\n      \"column\": \"Education-Num\",\n      \"properties\": {\n        \"dtype\": \"number\",\n        \"std\": 2,\n        \"min\": 1,\n        \"max\": 16,\n        \"num_unique_values\": 16,\n        \"samples\": [\n          13,\n          10,\n          3\n        ],\n        \"semantic_type\": \"\",\n        \"description\": \"\"\n      }\n    },\n    {\n      \"column\": \"Marital Status\",\n      \"properties\": {\n        \"dtype\": \"category\",\n        \"num_unique_values\": 7,\n        \"samples\": [\n          \"Never-married\",\n          \"Married-civ-spouse\",\n          \"Married-spouse-absent\"\n        ],\n        \"semantic_type\": \"\",\n        \"description\": \"\"\n      }\n    },\n    {\n      \"column\": \"Occupation\",\n      \"properties\": {\n        \"dtype\": \"category\",\n        \"num_unique_values\": 18,\n        \"samples\": [\n          \"Protective-serv\",\n          \"Craft-repair\",\n          \"Tech-support\"\n        ],\n        \"semantic_type\": \"\",\n        \"description\": \"\"\n      }\n    },\n    {\n      \"column\": \"Relationship\",\n      \"properties\": {\n        \"dtype\": \"category\",\n        \"num_unique_values\": 7,\n        \"samples\": [\n          \"Not-in-family\",\n          \"Own-child\",\n          \"Other-relative\"\n        ],\n        \"semantic_type\": \"\",\n        \"description\": \"\"\n      }\n    },\n    {\n      \"column\": \"Race\",\n      \"properties\": {\n        \"dtype\": \"category\",\n        \"num_unique_values\": 5,\n        \"samples\": [\n          \"Black\",\n          \"Amer-Indian-Eskimo\",\n          \"Other\"\n        ],\n        \"semantic_type\": \"\",\n        \"description\": \"\"\n      }\n    },\n    {\n      \"column\": \"Sex\",\n      \"properties\": {\n        \"dtype\": \"category\",\n        \"num_unique_values\": 2,\n        \"samples\": [\n          \"Female\",\n          \"Male\"\n        ],\n        \"semantic_type\": \"\",\n        \"description\": \"\"\n      }\n    },\n    {\n      \"column\": \"Hours per week\",\n      \"properties\": {\n        \"dtype\": \"number\",\n        \"std\": 12,\n        \"min\": 0,\n        \"max\": 99,\n        \"num_unique_values\": 95,\n        \"samples\": [\n          59,\n          8\n        ],\n        \"semantic_type\": \"\",\n        \"description\": \"\"\n      }\n    },\n    {\n      \"column\": \"Country\",\n      \"properties\": {\n        \"dtype\": \"category\",\n        \"num_unique_values\": 41,\n        \"samples\": [\n          \"China\",\n          \"Dominican-Republic\"\n        ],\n        \"semantic_type\": \"\",\n        \"description\": \"\"\n      }\n    },\n    {\n      \"column\": \"Target\",\n      \"properties\": {\n        \"dtype\": \"category\",\n        \"num_unique_values\": 2,\n        \"samples\": [\n          \"<=50K\",\n          \">50K\"\n        ],\n        \"semantic_type\": \"\",\n        \"description\": \"\"\n      }\n    },\n    {\n      \"column\": \"Age\",\n      \"properties\": {\n        \"dtype\": \"number\",\n        \"std\": 17,\n        \"min\": 1,\n        \"max\": 93,\n        \"num_unique_values\": 65,\n        \"samples\": [\n          25,\n          51\n        ],\n        \"semantic_type\": \"\",\n        \"description\": \"\"\n      }\n    },\n    {\n      \"column\": \"Capital Gain\",\n      \"properties\": {\n        \"dtype\": \"number\",\n        \"std\": 55251,\n        \"min\": 0,\n        \"max\": 9882384,\n        \"num_unique_values\": 121,\n        \"samples\": [\n          6849,\n          1055\n        ],\n        \"semantic_type\": \"\",\n        \"description\": \"\"\n      }\n    },\n    {\n      \"column\": \"Capital Loss\",\n      \"properties\": {\n        \"dtype\": \"number\",\n        \"std\": 402,\n        \"min\": 0,\n        \"max\": 4356,\n        \"num_unique_values\": 92,\n        \"samples\": [\n          2129,\n          1485\n        ],\n        \"semantic_type\": \"\",\n        \"description\": \"\"\n      }\n    }\n  ]\n}"
            }
          },
          "metadata": {},
          "execution_count": 19
        }
      ],
      "source": [
        "not_anonymised_df.head()"
      ]
    },
    {
      "cell_type": "code",
      "execution_count": 20,
      "metadata": {
        "colab": {
          "base_uri": "https://localhost:8080/",
          "height": 206
        },
        "id": "FtHcYYLxovl5",
        "outputId": "56ae9ccc-eee3-4bd9-c6ca-e4f60e999e2e"
      },
      "outputs": [
        {
          "output_type": "execute_result",
          "data": {
            "text/plain": [
              "                 Name          SSN        DOB    Zip\n",
              "0         Marla Swate  608-07-3181  9/21/1992  77373\n",
              "1        Blaire Pacey  770-60-9305   5/3/1969  19443\n",
              "2  Pamella Rosborough  837-77-6790  5/28/1979  15711\n",
              "3   Karleen Glanester  808-10-0428   2/1/1973  88563\n",
              "4      Karlene Marder  505-41-1129  5/13/1999  14472"
            ],
            "text/html": [
              "\n",
              "  <div id=\"df-a59bc649-07f3-42cf-8d0c-d024bd5df8da\" class=\"colab-df-container\">\n",
              "    <div>\n",
              "<style scoped>\n",
              "    .dataframe tbody tr th:only-of-type {\n",
              "        vertical-align: middle;\n",
              "    }\n",
              "\n",
              "    .dataframe tbody tr th {\n",
              "        vertical-align: top;\n",
              "    }\n",
              "\n",
              "    .dataframe thead th {\n",
              "        text-align: right;\n",
              "    }\n",
              "</style>\n",
              "<table border=\"1\" class=\"dataframe\">\n",
              "  <thead>\n",
              "    <tr style=\"text-align: right;\">\n",
              "      <th></th>\n",
              "      <th>Name</th>\n",
              "      <th>SSN</th>\n",
              "      <th>DOB</th>\n",
              "      <th>Zip</th>\n",
              "    </tr>\n",
              "  </thead>\n",
              "  <tbody>\n",
              "    <tr>\n",
              "      <th>0</th>\n",
              "      <td>Marla Swate</td>\n",
              "      <td>608-07-3181</td>\n",
              "      <td>9/21/1992</td>\n",
              "      <td>77373</td>\n",
              "    </tr>\n",
              "    <tr>\n",
              "      <th>1</th>\n",
              "      <td>Blaire Pacey</td>\n",
              "      <td>770-60-9305</td>\n",
              "      <td>5/3/1969</td>\n",
              "      <td>19443</td>\n",
              "    </tr>\n",
              "    <tr>\n",
              "      <th>2</th>\n",
              "      <td>Pamella Rosborough</td>\n",
              "      <td>837-77-6790</td>\n",
              "      <td>5/28/1979</td>\n",
              "      <td>15711</td>\n",
              "    </tr>\n",
              "    <tr>\n",
              "      <th>3</th>\n",
              "      <td>Karleen Glanester</td>\n",
              "      <td>808-10-0428</td>\n",
              "      <td>2/1/1973</td>\n",
              "      <td>88563</td>\n",
              "    </tr>\n",
              "    <tr>\n",
              "      <th>4</th>\n",
              "      <td>Karlene Marder</td>\n",
              "      <td>505-41-1129</td>\n",
              "      <td>5/13/1999</td>\n",
              "      <td>14472</td>\n",
              "    </tr>\n",
              "  </tbody>\n",
              "</table>\n",
              "</div>\n",
              "    <div class=\"colab-df-buttons\">\n",
              "\n",
              "  <div class=\"colab-df-container\">\n",
              "    <button class=\"colab-df-convert\" onclick=\"convertToInteractive('df-a59bc649-07f3-42cf-8d0c-d024bd5df8da')\"\n",
              "            title=\"Convert this dataframe to an interactive table.\"\n",
              "            style=\"display:none;\">\n",
              "\n",
              "  <svg xmlns=\"http://www.w3.org/2000/svg\" height=\"24px\" viewBox=\"0 -960 960 960\">\n",
              "    <path d=\"M120-120v-720h720v720H120Zm60-500h600v-160H180v160Zm220 220h160v-160H400v160Zm0 220h160v-160H400v160ZM180-400h160v-160H180v160Zm440 0h160v-160H620v160ZM180-180h160v-160H180v160Zm440 0h160v-160H620v160Z\"/>\n",
              "  </svg>\n",
              "    </button>\n",
              "\n",
              "  <style>\n",
              "    .colab-df-container {\n",
              "      display:flex;\n",
              "      gap: 12px;\n",
              "    }\n",
              "\n",
              "    .colab-df-convert {\n",
              "      background-color: #E8F0FE;\n",
              "      border: none;\n",
              "      border-radius: 50%;\n",
              "      cursor: pointer;\n",
              "      display: none;\n",
              "      fill: #1967D2;\n",
              "      height: 32px;\n",
              "      padding: 0 0 0 0;\n",
              "      width: 32px;\n",
              "    }\n",
              "\n",
              "    .colab-df-convert:hover {\n",
              "      background-color: #E2EBFA;\n",
              "      box-shadow: 0px 1px 2px rgba(60, 64, 67, 0.3), 0px 1px 3px 1px rgba(60, 64, 67, 0.15);\n",
              "      fill: #174EA6;\n",
              "    }\n",
              "\n",
              "    .colab-df-buttons div {\n",
              "      margin-bottom: 4px;\n",
              "    }\n",
              "\n",
              "    [theme=dark] .colab-df-convert {\n",
              "      background-color: #3B4455;\n",
              "      fill: #D2E3FC;\n",
              "    }\n",
              "\n",
              "    [theme=dark] .colab-df-convert:hover {\n",
              "      background-color: #434B5C;\n",
              "      box-shadow: 0px 1px 3px 1px rgba(0, 0, 0, 0.15);\n",
              "      filter: drop-shadow(0px 1px 2px rgba(0, 0, 0, 0.3));\n",
              "      fill: #FFFFFF;\n",
              "    }\n",
              "  </style>\n",
              "\n",
              "    <script>\n",
              "      const buttonEl =\n",
              "        document.querySelector('#df-a59bc649-07f3-42cf-8d0c-d024bd5df8da button.colab-df-convert');\n",
              "      buttonEl.style.display =\n",
              "        google.colab.kernel.accessAllowed ? 'block' : 'none';\n",
              "\n",
              "      async function convertToInteractive(key) {\n",
              "        const element = document.querySelector('#df-a59bc649-07f3-42cf-8d0c-d024bd5df8da');\n",
              "        const dataTable =\n",
              "          await google.colab.kernel.invokeFunction('convertToInteractive',\n",
              "                                                    [key], {});\n",
              "        if (!dataTable) return;\n",
              "\n",
              "        const docLinkHtml = 'Like what you see? Visit the ' +\n",
              "          '<a target=\"_blank\" href=https://colab.research.google.com/notebooks/data_table.ipynb>data table notebook</a>'\n",
              "          + ' to learn more about interactive tables.';\n",
              "        element.innerHTML = '';\n",
              "        dataTable['output_type'] = 'display_data';\n",
              "        await google.colab.output.renderOutput(dataTable, element);\n",
              "        const docLink = document.createElement('div');\n",
              "        docLink.innerHTML = docLinkHtml;\n",
              "        element.appendChild(docLink);\n",
              "      }\n",
              "    </script>\n",
              "  </div>\n",
              "\n",
              "\n",
              "<div id=\"df-b780068d-ae9b-4f80-b731-434dd9ad11d4\">\n",
              "  <button class=\"colab-df-quickchart\" onclick=\"quickchart('df-b780068d-ae9b-4f80-b731-434dd9ad11d4')\"\n",
              "            title=\"Suggest charts\"\n",
              "            style=\"display:none;\">\n",
              "\n",
              "<svg xmlns=\"http://www.w3.org/2000/svg\" height=\"24px\"viewBox=\"0 0 24 24\"\n",
              "     width=\"24px\">\n",
              "    <g>\n",
              "        <path d=\"M19 3H5c-1.1 0-2 .9-2 2v14c0 1.1.9 2 2 2h14c1.1 0 2-.9 2-2V5c0-1.1-.9-2-2-2zM9 17H7v-7h2v7zm4 0h-2V7h2v10zm4 0h-2v-4h2v4z\"/>\n",
              "    </g>\n",
              "</svg>\n",
              "  </button>\n",
              "\n",
              "<style>\n",
              "  .colab-df-quickchart {\n",
              "      --bg-color: #E8F0FE;\n",
              "      --fill-color: #1967D2;\n",
              "      --hover-bg-color: #E2EBFA;\n",
              "      --hover-fill-color: #174EA6;\n",
              "      --disabled-fill-color: #AAA;\n",
              "      --disabled-bg-color: #DDD;\n",
              "  }\n",
              "\n",
              "  [theme=dark] .colab-df-quickchart {\n",
              "      --bg-color: #3B4455;\n",
              "      --fill-color: #D2E3FC;\n",
              "      --hover-bg-color: #434B5C;\n",
              "      --hover-fill-color: #FFFFFF;\n",
              "      --disabled-bg-color: #3B4455;\n",
              "      --disabled-fill-color: #666;\n",
              "  }\n",
              "\n",
              "  .colab-df-quickchart {\n",
              "    background-color: var(--bg-color);\n",
              "    border: none;\n",
              "    border-radius: 50%;\n",
              "    cursor: pointer;\n",
              "    display: none;\n",
              "    fill: var(--fill-color);\n",
              "    height: 32px;\n",
              "    padding: 0;\n",
              "    width: 32px;\n",
              "  }\n",
              "\n",
              "  .colab-df-quickchart:hover {\n",
              "    background-color: var(--hover-bg-color);\n",
              "    box-shadow: 0 1px 2px rgba(60, 64, 67, 0.3), 0 1px 3px 1px rgba(60, 64, 67, 0.15);\n",
              "    fill: var(--button-hover-fill-color);\n",
              "  }\n",
              "\n",
              "  .colab-df-quickchart-complete:disabled,\n",
              "  .colab-df-quickchart-complete:disabled:hover {\n",
              "    background-color: var(--disabled-bg-color);\n",
              "    fill: var(--disabled-fill-color);\n",
              "    box-shadow: none;\n",
              "  }\n",
              "\n",
              "  .colab-df-spinner {\n",
              "    border: 2px solid var(--fill-color);\n",
              "    border-color: transparent;\n",
              "    border-bottom-color: var(--fill-color);\n",
              "    animation:\n",
              "      spin 1s steps(1) infinite;\n",
              "  }\n",
              "\n",
              "  @keyframes spin {\n",
              "    0% {\n",
              "      border-color: transparent;\n",
              "      border-bottom-color: var(--fill-color);\n",
              "      border-left-color: var(--fill-color);\n",
              "    }\n",
              "    20% {\n",
              "      border-color: transparent;\n",
              "      border-left-color: var(--fill-color);\n",
              "      border-top-color: var(--fill-color);\n",
              "    }\n",
              "    30% {\n",
              "      border-color: transparent;\n",
              "      border-left-color: var(--fill-color);\n",
              "      border-top-color: var(--fill-color);\n",
              "      border-right-color: var(--fill-color);\n",
              "    }\n",
              "    40% {\n",
              "      border-color: transparent;\n",
              "      border-right-color: var(--fill-color);\n",
              "      border-top-color: var(--fill-color);\n",
              "    }\n",
              "    60% {\n",
              "      border-color: transparent;\n",
              "      border-right-color: var(--fill-color);\n",
              "    }\n",
              "    80% {\n",
              "      border-color: transparent;\n",
              "      border-right-color: var(--fill-color);\n",
              "      border-bottom-color: var(--fill-color);\n",
              "    }\n",
              "    90% {\n",
              "      border-color: transparent;\n",
              "      border-bottom-color: var(--fill-color);\n",
              "    }\n",
              "  }\n",
              "</style>\n",
              "\n",
              "  <script>\n",
              "    async function quickchart(key) {\n",
              "      const quickchartButtonEl =\n",
              "        document.querySelector('#' + key + ' button');\n",
              "      quickchartButtonEl.disabled = true;  // To prevent multiple clicks.\n",
              "      quickchartButtonEl.classList.add('colab-df-spinner');\n",
              "      try {\n",
              "        const charts = await google.colab.kernel.invokeFunction(\n",
              "            'suggestCharts', [key], {});\n",
              "      } catch (error) {\n",
              "        console.error('Error during call to suggestCharts:', error);\n",
              "      }\n",
              "      quickchartButtonEl.classList.remove('colab-df-spinner');\n",
              "      quickchartButtonEl.classList.add('colab-df-quickchart-complete');\n",
              "    }\n",
              "    (() => {\n",
              "      let quickchartButtonEl =\n",
              "        document.querySelector('#df-b780068d-ae9b-4f80-b731-434dd9ad11d4 button');\n",
              "      quickchartButtonEl.style.display =\n",
              "        google.colab.kernel.accessAllowed ? 'block' : 'none';\n",
              "    })();\n",
              "  </script>\n",
              "</div>\n",
              "\n",
              "    </div>\n",
              "  </div>\n"
            ],
            "application/vnd.google.colaboratory.intrinsic+json": {
              "type": "dataframe",
              "variable_name": "df_vote",
              "summary": "{\n  \"name\": \"df_vote\",\n  \"rows\": 32566,\n  \"fields\": [\n    {\n      \"column\": \"Name\",\n      \"properties\": {\n        \"dtype\": \"string\",\n        \"num_unique_values\": 32564,\n        \"samples\": [\n          \"Virgilio Dominicacci\",\n          \"Valentina Ibotson\",\n          \"Dunc Dicke\"\n        ],\n        \"semantic_type\": \"\",\n        \"description\": \"\"\n      }\n    },\n    {\n      \"column\": \"SSN\",\n      \"properties\": {\n        \"dtype\": \"string\",\n        \"num_unique_values\": 32562,\n        \"samples\": [\n          \"610-89-9708\",\n          \"155-03-2666\",\n          \"425-48-3193\"\n        ],\n        \"semantic_type\": \"\",\n        \"description\": \"\"\n      }\n    },\n    {\n      \"column\": \"DOB\",\n      \"properties\": {\n        \"dtype\": \"object\",\n        \"num_unique_values\": 17311,\n        \"samples\": [\n          \"8/31/1988\",\n          \"7/5/1956\",\n          \"10/11/1981\"\n        ],\n        \"semantic_type\": \"\",\n        \"description\": \"\"\n      }\n    },\n    {\n      \"column\": \"Zip\",\n      \"properties\": {\n        \"dtype\": \"number\",\n        \"std\": 28939,\n        \"min\": 4,\n        \"max\": 99999,\n        \"num_unique_values\": 27791,\n        \"samples\": [\n          90474,\n          63690,\n          97702\n        ],\n        \"semantic_type\": \"\",\n        \"description\": \"\"\n      }\n    }\n  ]\n}"
            }
          },
          "metadata": {},
          "execution_count": 20
        }
      ],
      "source": [
        "df_vote.head()"
      ]
    },
    {
      "cell_type": "markdown",
      "metadata": {
        "id": "Niykkljzovl5"
      },
      "source": [
        "<font color=\"green\"><b>¿Q?:</b> Show all attributes present in the dataset</font>\n",
        "\n",
        "_Tip_: the attributes correspond to columns in the dataset"
      ]
    },
    {
      "cell_type": "code",
      "execution_count": 21,
      "metadata": {
        "colab": {
          "base_uri": "https://localhost:8080/"
        },
        "id": "deIgOOHvovl6",
        "outputId": "6799d748-147b-4682-ffff-8f8e8796e235"
      },
      "outputs": [
        {
          "output_type": "execute_result",
          "data": {
            "text/plain": [
              "Index(['Name', 'DOB', 'SSN', 'Zip', 'Workclass', 'Education', 'Education-Num',\n",
              "       'Marital Status', 'Occupation', 'Relationship', 'Race', 'Sex',\n",
              "       'Hours per week', 'Country', 'Target', 'Age', 'Capital Gain',\n",
              "       'Capital Loss'],\n",
              "      dtype='object')"
            ]
          },
          "metadata": {},
          "execution_count": 21
        }
      ],
      "source": [
        "not_anonymised_df.columns"
      ]
    },
    {
      "cell_type": "code",
      "source": [
        "df_vote.columns"
      ],
      "metadata": {
        "colab": {
          "base_uri": "https://localhost:8080/"
        },
        "id": "ZE9HLt93p0iw",
        "outputId": "dc7b3cd3-3636-4127-b94c-9c0fe127c1c1"
      },
      "execution_count": null,
      "outputs": [
        {
          "output_type": "execute_result",
          "data": {
            "text/plain": [
              "Index(['Name', 'SSN', 'DOB', 'Zip'], dtype='object')"
            ]
          },
          "metadata": {},
          "execution_count": 12
        }
      ]
    },
    {
      "cell_type": "markdown",
      "metadata": {
        "id": "cQlMv4rSovl6"
      },
      "source": [
        "<font color=\"green\"><b>¿Q?:</b> Which attributes are direct identifiers/unique identifiers? <b>Create a new dataset which doesn't include the direct identifiers</b>\n",
        "\n",
        "_Tip_: remove columns/attributes by using the `drop` method"
      ]
    },
    {
      "cell_type": "code",
      "execution_count": 22,
      "metadata": {
        "colab": {
          "base_uri": "https://localhost:8080/",
          "height": 206
        },
        "id": "MHDR-wRIovl6",
        "outputId": "50e6dee7-1492-4f2a-d864-b4add04aee67"
      },
      "outputs": [
        {
          "output_type": "execute_result",
          "data": {
            "text/plain": [
              "          DOB    Zip         Workclass     Education  Education-Num  \\\n",
              "0   10/6/1962  99167  Self-emp-not-inc     Bachelors             13   \n",
              "1   7/20/2000  31807           Private  Some-college             10   \n",
              "2  11/19/1985  15860           Private       HS-grad              9   \n",
              "3    2/6/1956  14965           Private       1st-4th              2   \n",
              "4   8/20/1955  17739           Private     Bachelors             13   \n",
              "\n",
              "       Marital Status       Occupation   Relationship   Race     Sex  \\\n",
              "0       Never-married  Protective-serv  Not-in-family  White    Male   \n",
              "1       Never-married     Craft-repair  Not-in-family  Black    Male   \n",
              "2       Never-married            Sales      Own-child  White  Female   \n",
              "3  Married-civ-spouse    Other-service        Husband  White    Male   \n",
              "4  Married-civ-spouse  Exec-managerial        Husband  White    Male   \n",
              "\n",
              "   Hours per week        Country Target  Age  Capital Gain  Capital Loss  \n",
              "0              55  United-States   >50K   61             0             0  \n",
              "1              28  United-States  <=50K   23             0             0  \n",
              "2              40  United-States  <=50K   38             0             0  \n",
              "3              53         Mexico  <=50K   67             0             0  \n",
              "4              50         France   >50K   68             0             0  "
            ],
            "text/html": [
              "\n",
              "  <div id=\"df-5c683ec7-c672-48c4-909a-e3ca5af6626a\" class=\"colab-df-container\">\n",
              "    <div>\n",
              "<style scoped>\n",
              "    .dataframe tbody tr th:only-of-type {\n",
              "        vertical-align: middle;\n",
              "    }\n",
              "\n",
              "    .dataframe tbody tr th {\n",
              "        vertical-align: top;\n",
              "    }\n",
              "\n",
              "    .dataframe thead th {\n",
              "        text-align: right;\n",
              "    }\n",
              "</style>\n",
              "<table border=\"1\" class=\"dataframe\">\n",
              "  <thead>\n",
              "    <tr style=\"text-align: right;\">\n",
              "      <th></th>\n",
              "      <th>DOB</th>\n",
              "      <th>Zip</th>\n",
              "      <th>Workclass</th>\n",
              "      <th>Education</th>\n",
              "      <th>Education-Num</th>\n",
              "      <th>Marital Status</th>\n",
              "      <th>Occupation</th>\n",
              "      <th>Relationship</th>\n",
              "      <th>Race</th>\n",
              "      <th>Sex</th>\n",
              "      <th>Hours per week</th>\n",
              "      <th>Country</th>\n",
              "      <th>Target</th>\n",
              "      <th>Age</th>\n",
              "      <th>Capital Gain</th>\n",
              "      <th>Capital Loss</th>\n",
              "    </tr>\n",
              "  </thead>\n",
              "  <tbody>\n",
              "    <tr>\n",
              "      <th>0</th>\n",
              "      <td>10/6/1962</td>\n",
              "      <td>99167</td>\n",
              "      <td>Self-emp-not-inc</td>\n",
              "      <td>Bachelors</td>\n",
              "      <td>13</td>\n",
              "      <td>Never-married</td>\n",
              "      <td>Protective-serv</td>\n",
              "      <td>Not-in-family</td>\n",
              "      <td>White</td>\n",
              "      <td>Male</td>\n",
              "      <td>55</td>\n",
              "      <td>United-States</td>\n",
              "      <td>&gt;50K</td>\n",
              "      <td>61</td>\n",
              "      <td>0</td>\n",
              "      <td>0</td>\n",
              "    </tr>\n",
              "    <tr>\n",
              "      <th>1</th>\n",
              "      <td>7/20/2000</td>\n",
              "      <td>31807</td>\n",
              "      <td>Private</td>\n",
              "      <td>Some-college</td>\n",
              "      <td>10</td>\n",
              "      <td>Never-married</td>\n",
              "      <td>Craft-repair</td>\n",
              "      <td>Not-in-family</td>\n",
              "      <td>Black</td>\n",
              "      <td>Male</td>\n",
              "      <td>28</td>\n",
              "      <td>United-States</td>\n",
              "      <td>&lt;=50K</td>\n",
              "      <td>23</td>\n",
              "      <td>0</td>\n",
              "      <td>0</td>\n",
              "    </tr>\n",
              "    <tr>\n",
              "      <th>2</th>\n",
              "      <td>11/19/1985</td>\n",
              "      <td>15860</td>\n",
              "      <td>Private</td>\n",
              "      <td>HS-grad</td>\n",
              "      <td>9</td>\n",
              "      <td>Never-married</td>\n",
              "      <td>Sales</td>\n",
              "      <td>Own-child</td>\n",
              "      <td>White</td>\n",
              "      <td>Female</td>\n",
              "      <td>40</td>\n",
              "      <td>United-States</td>\n",
              "      <td>&lt;=50K</td>\n",
              "      <td>38</td>\n",
              "      <td>0</td>\n",
              "      <td>0</td>\n",
              "    </tr>\n",
              "    <tr>\n",
              "      <th>3</th>\n",
              "      <td>2/6/1956</td>\n",
              "      <td>14965</td>\n",
              "      <td>Private</td>\n",
              "      <td>1st-4th</td>\n",
              "      <td>2</td>\n",
              "      <td>Married-civ-spouse</td>\n",
              "      <td>Other-service</td>\n",
              "      <td>Husband</td>\n",
              "      <td>White</td>\n",
              "      <td>Male</td>\n",
              "      <td>53</td>\n",
              "      <td>Mexico</td>\n",
              "      <td>&lt;=50K</td>\n",
              "      <td>67</td>\n",
              "      <td>0</td>\n",
              "      <td>0</td>\n",
              "    </tr>\n",
              "    <tr>\n",
              "      <th>4</th>\n",
              "      <td>8/20/1955</td>\n",
              "      <td>17739</td>\n",
              "      <td>Private</td>\n",
              "      <td>Bachelors</td>\n",
              "      <td>13</td>\n",
              "      <td>Married-civ-spouse</td>\n",
              "      <td>Exec-managerial</td>\n",
              "      <td>Husband</td>\n",
              "      <td>White</td>\n",
              "      <td>Male</td>\n",
              "      <td>50</td>\n",
              "      <td>France</td>\n",
              "      <td>&gt;50K</td>\n",
              "      <td>68</td>\n",
              "      <td>0</td>\n",
              "      <td>0</td>\n",
              "    </tr>\n",
              "  </tbody>\n",
              "</table>\n",
              "</div>\n",
              "    <div class=\"colab-df-buttons\">\n",
              "\n",
              "  <div class=\"colab-df-container\">\n",
              "    <button class=\"colab-df-convert\" onclick=\"convertToInteractive('df-5c683ec7-c672-48c4-909a-e3ca5af6626a')\"\n",
              "            title=\"Convert this dataframe to an interactive table.\"\n",
              "            style=\"display:none;\">\n",
              "\n",
              "  <svg xmlns=\"http://www.w3.org/2000/svg\" height=\"24px\" viewBox=\"0 -960 960 960\">\n",
              "    <path d=\"M120-120v-720h720v720H120Zm60-500h600v-160H180v160Zm220 220h160v-160H400v160Zm0 220h160v-160H400v160ZM180-400h160v-160H180v160Zm440 0h160v-160H620v160ZM180-180h160v-160H180v160Zm440 0h160v-160H620v160Z\"/>\n",
              "  </svg>\n",
              "    </button>\n",
              "\n",
              "  <style>\n",
              "    .colab-df-container {\n",
              "      display:flex;\n",
              "      gap: 12px;\n",
              "    }\n",
              "\n",
              "    .colab-df-convert {\n",
              "      background-color: #E8F0FE;\n",
              "      border: none;\n",
              "      border-radius: 50%;\n",
              "      cursor: pointer;\n",
              "      display: none;\n",
              "      fill: #1967D2;\n",
              "      height: 32px;\n",
              "      padding: 0 0 0 0;\n",
              "      width: 32px;\n",
              "    }\n",
              "\n",
              "    .colab-df-convert:hover {\n",
              "      background-color: #E2EBFA;\n",
              "      box-shadow: 0px 1px 2px rgba(60, 64, 67, 0.3), 0px 1px 3px 1px rgba(60, 64, 67, 0.15);\n",
              "      fill: #174EA6;\n",
              "    }\n",
              "\n",
              "    .colab-df-buttons div {\n",
              "      margin-bottom: 4px;\n",
              "    }\n",
              "\n",
              "    [theme=dark] .colab-df-convert {\n",
              "      background-color: #3B4455;\n",
              "      fill: #D2E3FC;\n",
              "    }\n",
              "\n",
              "    [theme=dark] .colab-df-convert:hover {\n",
              "      background-color: #434B5C;\n",
              "      box-shadow: 0px 1px 3px 1px rgba(0, 0, 0, 0.15);\n",
              "      filter: drop-shadow(0px 1px 2px rgba(0, 0, 0, 0.3));\n",
              "      fill: #FFFFFF;\n",
              "    }\n",
              "  </style>\n",
              "\n",
              "    <script>\n",
              "      const buttonEl =\n",
              "        document.querySelector('#df-5c683ec7-c672-48c4-909a-e3ca5af6626a button.colab-df-convert');\n",
              "      buttonEl.style.display =\n",
              "        google.colab.kernel.accessAllowed ? 'block' : 'none';\n",
              "\n",
              "      async function convertToInteractive(key) {\n",
              "        const element = document.querySelector('#df-5c683ec7-c672-48c4-909a-e3ca5af6626a');\n",
              "        const dataTable =\n",
              "          await google.colab.kernel.invokeFunction('convertToInteractive',\n",
              "                                                    [key], {});\n",
              "        if (!dataTable) return;\n",
              "\n",
              "        const docLinkHtml = 'Like what you see? Visit the ' +\n",
              "          '<a target=\"_blank\" href=https://colab.research.google.com/notebooks/data_table.ipynb>data table notebook</a>'\n",
              "          + ' to learn more about interactive tables.';\n",
              "        element.innerHTML = '';\n",
              "        dataTable['output_type'] = 'display_data';\n",
              "        await google.colab.output.renderOutput(dataTable, element);\n",
              "        const docLink = document.createElement('div');\n",
              "        docLink.innerHTML = docLinkHtml;\n",
              "        element.appendChild(docLink);\n",
              "      }\n",
              "    </script>\n",
              "  </div>\n",
              "\n",
              "\n",
              "<div id=\"df-48d1c4cf-a1e5-4610-bad7-272e270cc368\">\n",
              "  <button class=\"colab-df-quickchart\" onclick=\"quickchart('df-48d1c4cf-a1e5-4610-bad7-272e270cc368')\"\n",
              "            title=\"Suggest charts\"\n",
              "            style=\"display:none;\">\n",
              "\n",
              "<svg xmlns=\"http://www.w3.org/2000/svg\" height=\"24px\"viewBox=\"0 0 24 24\"\n",
              "     width=\"24px\">\n",
              "    <g>\n",
              "        <path d=\"M19 3H5c-1.1 0-2 .9-2 2v14c0 1.1.9 2 2 2h14c1.1 0 2-.9 2-2V5c0-1.1-.9-2-2-2zM9 17H7v-7h2v7zm4 0h-2V7h2v10zm4 0h-2v-4h2v4z\"/>\n",
              "    </g>\n",
              "</svg>\n",
              "  </button>\n",
              "\n",
              "<style>\n",
              "  .colab-df-quickchart {\n",
              "      --bg-color: #E8F0FE;\n",
              "      --fill-color: #1967D2;\n",
              "      --hover-bg-color: #E2EBFA;\n",
              "      --hover-fill-color: #174EA6;\n",
              "      --disabled-fill-color: #AAA;\n",
              "      --disabled-bg-color: #DDD;\n",
              "  }\n",
              "\n",
              "  [theme=dark] .colab-df-quickchart {\n",
              "      --bg-color: #3B4455;\n",
              "      --fill-color: #D2E3FC;\n",
              "      --hover-bg-color: #434B5C;\n",
              "      --hover-fill-color: #FFFFFF;\n",
              "      --disabled-bg-color: #3B4455;\n",
              "      --disabled-fill-color: #666;\n",
              "  }\n",
              "\n",
              "  .colab-df-quickchart {\n",
              "    background-color: var(--bg-color);\n",
              "    border: none;\n",
              "    border-radius: 50%;\n",
              "    cursor: pointer;\n",
              "    display: none;\n",
              "    fill: var(--fill-color);\n",
              "    height: 32px;\n",
              "    padding: 0;\n",
              "    width: 32px;\n",
              "  }\n",
              "\n",
              "  .colab-df-quickchart:hover {\n",
              "    background-color: var(--hover-bg-color);\n",
              "    box-shadow: 0 1px 2px rgba(60, 64, 67, 0.3), 0 1px 3px 1px rgba(60, 64, 67, 0.15);\n",
              "    fill: var(--button-hover-fill-color);\n",
              "  }\n",
              "\n",
              "  .colab-df-quickchart-complete:disabled,\n",
              "  .colab-df-quickchart-complete:disabled:hover {\n",
              "    background-color: var(--disabled-bg-color);\n",
              "    fill: var(--disabled-fill-color);\n",
              "    box-shadow: none;\n",
              "  }\n",
              "\n",
              "  .colab-df-spinner {\n",
              "    border: 2px solid var(--fill-color);\n",
              "    border-color: transparent;\n",
              "    border-bottom-color: var(--fill-color);\n",
              "    animation:\n",
              "      spin 1s steps(1) infinite;\n",
              "  }\n",
              "\n",
              "  @keyframes spin {\n",
              "    0% {\n",
              "      border-color: transparent;\n",
              "      border-bottom-color: var(--fill-color);\n",
              "      border-left-color: var(--fill-color);\n",
              "    }\n",
              "    20% {\n",
              "      border-color: transparent;\n",
              "      border-left-color: var(--fill-color);\n",
              "      border-top-color: var(--fill-color);\n",
              "    }\n",
              "    30% {\n",
              "      border-color: transparent;\n",
              "      border-left-color: var(--fill-color);\n",
              "      border-top-color: var(--fill-color);\n",
              "      border-right-color: var(--fill-color);\n",
              "    }\n",
              "    40% {\n",
              "      border-color: transparent;\n",
              "      border-right-color: var(--fill-color);\n",
              "      border-top-color: var(--fill-color);\n",
              "    }\n",
              "    60% {\n",
              "      border-color: transparent;\n",
              "      border-right-color: var(--fill-color);\n",
              "    }\n",
              "    80% {\n",
              "      border-color: transparent;\n",
              "      border-right-color: var(--fill-color);\n",
              "      border-bottom-color: var(--fill-color);\n",
              "    }\n",
              "    90% {\n",
              "      border-color: transparent;\n",
              "      border-bottom-color: var(--fill-color);\n",
              "    }\n",
              "  }\n",
              "</style>\n",
              "\n",
              "  <script>\n",
              "    async function quickchart(key) {\n",
              "      const quickchartButtonEl =\n",
              "        document.querySelector('#' + key + ' button');\n",
              "      quickchartButtonEl.disabled = true;  // To prevent multiple clicks.\n",
              "      quickchartButtonEl.classList.add('colab-df-spinner');\n",
              "      try {\n",
              "        const charts = await google.colab.kernel.invokeFunction(\n",
              "            'suggestCharts', [key], {});\n",
              "      } catch (error) {\n",
              "        console.error('Error during call to suggestCharts:', error);\n",
              "      }\n",
              "      quickchartButtonEl.classList.remove('colab-df-spinner');\n",
              "      quickchartButtonEl.classList.add('colab-df-quickchart-complete');\n",
              "    }\n",
              "    (() => {\n",
              "      let quickchartButtonEl =\n",
              "        document.querySelector('#df-48d1c4cf-a1e5-4610-bad7-272e270cc368 button');\n",
              "      quickchartButtonEl.style.display =\n",
              "        google.colab.kernel.accessAllowed ? 'block' : 'none';\n",
              "    })();\n",
              "  </script>\n",
              "</div>\n",
              "\n",
              "    </div>\n",
              "  </div>\n"
            ],
            "application/vnd.google.colaboratory.intrinsic+json": {
              "type": "dataframe",
              "variable_name": "anonymised_df",
              "summary": "{\n  \"name\": \"anonymised_df\",\n  \"rows\": 32566,\n  \"fields\": [\n    {\n      \"column\": \"DOB\",\n      \"properties\": {\n        \"dtype\": \"object\",\n        \"num_unique_values\": 17311,\n        \"samples\": [\n          \"3/10/1961\",\n          \"9/29/1998\",\n          \"9/15/1978\"\n        ],\n        \"semantic_type\": \"\",\n        \"description\": \"\"\n      }\n    },\n    {\n      \"column\": \"Zip\",\n      \"properties\": {\n        \"dtype\": \"number\",\n        \"std\": 28939,\n        \"min\": 4,\n        \"max\": 99999,\n        \"num_unique_values\": 27791,\n        \"samples\": [\n          62523,\n          26760,\n          51014\n        ],\n        \"semantic_type\": \"\",\n        \"description\": \"\"\n      }\n    },\n    {\n      \"column\": \"Workclass\",\n      \"properties\": {\n        \"dtype\": \"category\",\n        \"num_unique_values\": 11,\n        \"samples\": [\n          \"Federal-gov\",\n          \"Self-emp-not-inc\",\n          \"Trader\"\n        ],\n        \"semantic_type\": \"\",\n        \"description\": \"\"\n      }\n    },\n    {\n      \"column\": \"Education\",\n      \"properties\": {\n        \"dtype\": \"category\",\n        \"num_unique_values\": 17,\n        \"samples\": [\n          \"Bachelors\",\n          \"Some-college\",\n          \"5th-6th\"\n        ],\n        \"semantic_type\": \"\",\n        \"description\": \"\"\n      }\n    },\n    {\n      \"column\": \"Education-Num\",\n      \"properties\": {\n        \"dtype\": \"number\",\n        \"std\": 2,\n        \"min\": 1,\n        \"max\": 16,\n        \"num_unique_values\": 16,\n        \"samples\": [\n          13,\n          10,\n          3\n        ],\n        \"semantic_type\": \"\",\n        \"description\": \"\"\n      }\n    },\n    {\n      \"column\": \"Marital Status\",\n      \"properties\": {\n        \"dtype\": \"category\",\n        \"num_unique_values\": 7,\n        \"samples\": [\n          \"Never-married\",\n          \"Married-civ-spouse\",\n          \"Married-spouse-absent\"\n        ],\n        \"semantic_type\": \"\",\n        \"description\": \"\"\n      }\n    },\n    {\n      \"column\": \"Occupation\",\n      \"properties\": {\n        \"dtype\": \"category\",\n        \"num_unique_values\": 18,\n        \"samples\": [\n          \"Protective-serv\",\n          \"Craft-repair\",\n          \"Tech-support\"\n        ],\n        \"semantic_type\": \"\",\n        \"description\": \"\"\n      }\n    },\n    {\n      \"column\": \"Relationship\",\n      \"properties\": {\n        \"dtype\": \"category\",\n        \"num_unique_values\": 7,\n        \"samples\": [\n          \"Not-in-family\",\n          \"Own-child\",\n          \"Other-relative\"\n        ],\n        \"semantic_type\": \"\",\n        \"description\": \"\"\n      }\n    },\n    {\n      \"column\": \"Race\",\n      \"properties\": {\n        \"dtype\": \"category\",\n        \"num_unique_values\": 5,\n        \"samples\": [\n          \"Black\",\n          \"Amer-Indian-Eskimo\",\n          \"Other\"\n        ],\n        \"semantic_type\": \"\",\n        \"description\": \"\"\n      }\n    },\n    {\n      \"column\": \"Sex\",\n      \"properties\": {\n        \"dtype\": \"category\",\n        \"num_unique_values\": 2,\n        \"samples\": [\n          \"Female\",\n          \"Male\"\n        ],\n        \"semantic_type\": \"\",\n        \"description\": \"\"\n      }\n    },\n    {\n      \"column\": \"Hours per week\",\n      \"properties\": {\n        \"dtype\": \"number\",\n        \"std\": 12,\n        \"min\": 0,\n        \"max\": 99,\n        \"num_unique_values\": 95,\n        \"samples\": [\n          59,\n          8\n        ],\n        \"semantic_type\": \"\",\n        \"description\": \"\"\n      }\n    },\n    {\n      \"column\": \"Country\",\n      \"properties\": {\n        \"dtype\": \"category\",\n        \"num_unique_values\": 41,\n        \"samples\": [\n          \"China\",\n          \"Dominican-Republic\"\n        ],\n        \"semantic_type\": \"\",\n        \"description\": \"\"\n      }\n    },\n    {\n      \"column\": \"Target\",\n      \"properties\": {\n        \"dtype\": \"category\",\n        \"num_unique_values\": 2,\n        \"samples\": [\n          \"<=50K\",\n          \">50K\"\n        ],\n        \"semantic_type\": \"\",\n        \"description\": \"\"\n      }\n    },\n    {\n      \"column\": \"Age\",\n      \"properties\": {\n        \"dtype\": \"number\",\n        \"std\": 17,\n        \"min\": 1,\n        \"max\": 93,\n        \"num_unique_values\": 65,\n        \"samples\": [\n          25,\n          51\n        ],\n        \"semantic_type\": \"\",\n        \"description\": \"\"\n      }\n    },\n    {\n      \"column\": \"Capital Gain\",\n      \"properties\": {\n        \"dtype\": \"number\",\n        \"std\": 55251,\n        \"min\": 0,\n        \"max\": 9882384,\n        \"num_unique_values\": 121,\n        \"samples\": [\n          6849,\n          1055\n        ],\n        \"semantic_type\": \"\",\n        \"description\": \"\"\n      }\n    },\n    {\n      \"column\": \"Capital Loss\",\n      \"properties\": {\n        \"dtype\": \"number\",\n        \"std\": 402,\n        \"min\": 0,\n        \"max\": 4356,\n        \"num_unique_values\": 92,\n        \"samples\": [\n          2129,\n          1485\n        ],\n        \"semantic_type\": \"\",\n        \"description\": \"\"\n      }\n    }\n  ]\n}"
            }
          },
          "metadata": {},
          "execution_count": 22
        }
      ],
      "source": [
        "anonymised_df = not_anonymised_df.copy().drop(columns=[\"Name\", \"SSN\"])\n",
        "anonymised_df.head()"
      ]
    },
    {
      "cell_type": "markdown",
      "metadata": {
        "id": "f4l3tWfqovl7"
      },
      "source": [
        "## 1.1 Linkage attack"
      ]
    },
    {
      "cell_type": "markdown",
      "metadata": {
        "id": "nC8YXAIkovl7"
      },
      "source": [
        "Scenario:\n",
        "- We have access to the `anonymised_df` dataset\n",
        "- We have access to the `df_vote` dataset which is public\n",
        "- We want to retrieve informations on our \"friend\" from the anonymised dataset.\n",
        "\n",
        "Our friend’s name is Annie Mone, and we know Annies’s date of birth (`DOB`=1/2/1961) and zip code (`Zip`=14000).\n",
        "\n",
        "\n",
        "\n",
        "<font color=\"green\"><b>¿Q?:</b> Extract rows relevant to Annie Mone in the `df_vote` dataset</b>\n",
        "\n",
        "_Tip_: `dataframe[condition]` outputs the index of rows satisfying the condition. `dataframe[dataframe[condition]]` extracts the values where condition is met"
      ]
    },
    {
      "cell_type": "code",
      "execution_count": 23,
      "metadata": {
        "colab": {
          "base_uri": "https://localhost:8080/",
          "height": 89
        },
        "id": "uY-9e0dqovl7",
        "outputId": "4ad4e1b2-bd2f-403c-e861-7b3ce58317f4"
      },
      "outputs": [
        {
          "output_type": "execute_result",
          "data": {
            "text/plain": [
              "            Name          SSN       DOB    Zip\n",
              "2265  Annie Mone  142-23-2417  1/2/1961  14000"
            ],
            "text/html": [
              "\n",
              "  <div id=\"df-115bf0bb-cca1-4e41-96f4-1f1e5d5eab7f\" class=\"colab-df-container\">\n",
              "    <div>\n",
              "<style scoped>\n",
              "    .dataframe tbody tr th:only-of-type {\n",
              "        vertical-align: middle;\n",
              "    }\n",
              "\n",
              "    .dataframe tbody tr th {\n",
              "        vertical-align: top;\n",
              "    }\n",
              "\n",
              "    .dataframe thead th {\n",
              "        text-align: right;\n",
              "    }\n",
              "</style>\n",
              "<table border=\"1\" class=\"dataframe\">\n",
              "  <thead>\n",
              "    <tr style=\"text-align: right;\">\n",
              "      <th></th>\n",
              "      <th>Name</th>\n",
              "      <th>SSN</th>\n",
              "      <th>DOB</th>\n",
              "      <th>Zip</th>\n",
              "    </tr>\n",
              "  </thead>\n",
              "  <tbody>\n",
              "    <tr>\n",
              "      <th>2265</th>\n",
              "      <td>Annie Mone</td>\n",
              "      <td>142-23-2417</td>\n",
              "      <td>1/2/1961</td>\n",
              "      <td>14000</td>\n",
              "    </tr>\n",
              "  </tbody>\n",
              "</table>\n",
              "</div>\n",
              "    <div class=\"colab-df-buttons\">\n",
              "\n",
              "  <div class=\"colab-df-container\">\n",
              "    <button class=\"colab-df-convert\" onclick=\"convertToInteractive('df-115bf0bb-cca1-4e41-96f4-1f1e5d5eab7f')\"\n",
              "            title=\"Convert this dataframe to an interactive table.\"\n",
              "            style=\"display:none;\">\n",
              "\n",
              "  <svg xmlns=\"http://www.w3.org/2000/svg\" height=\"24px\" viewBox=\"0 -960 960 960\">\n",
              "    <path d=\"M120-120v-720h720v720H120Zm60-500h600v-160H180v160Zm220 220h160v-160H400v160Zm0 220h160v-160H400v160ZM180-400h160v-160H180v160Zm440 0h160v-160H620v160ZM180-180h160v-160H180v160Zm440 0h160v-160H620v160Z\"/>\n",
              "  </svg>\n",
              "    </button>\n",
              "\n",
              "  <style>\n",
              "    .colab-df-container {\n",
              "      display:flex;\n",
              "      gap: 12px;\n",
              "    }\n",
              "\n",
              "    .colab-df-convert {\n",
              "      background-color: #E8F0FE;\n",
              "      border: none;\n",
              "      border-radius: 50%;\n",
              "      cursor: pointer;\n",
              "      display: none;\n",
              "      fill: #1967D2;\n",
              "      height: 32px;\n",
              "      padding: 0 0 0 0;\n",
              "      width: 32px;\n",
              "    }\n",
              "\n",
              "    .colab-df-convert:hover {\n",
              "      background-color: #E2EBFA;\n",
              "      box-shadow: 0px 1px 2px rgba(60, 64, 67, 0.3), 0px 1px 3px 1px rgba(60, 64, 67, 0.15);\n",
              "      fill: #174EA6;\n",
              "    }\n",
              "\n",
              "    .colab-df-buttons div {\n",
              "      margin-bottom: 4px;\n",
              "    }\n",
              "\n",
              "    [theme=dark] .colab-df-convert {\n",
              "      background-color: #3B4455;\n",
              "      fill: #D2E3FC;\n",
              "    }\n",
              "\n",
              "    [theme=dark] .colab-df-convert:hover {\n",
              "      background-color: #434B5C;\n",
              "      box-shadow: 0px 1px 3px 1px rgba(0, 0, 0, 0.15);\n",
              "      filter: drop-shadow(0px 1px 2px rgba(0, 0, 0, 0.3));\n",
              "      fill: #FFFFFF;\n",
              "    }\n",
              "  </style>\n",
              "\n",
              "    <script>\n",
              "      const buttonEl =\n",
              "        document.querySelector('#df-115bf0bb-cca1-4e41-96f4-1f1e5d5eab7f button.colab-df-convert');\n",
              "      buttonEl.style.display =\n",
              "        google.colab.kernel.accessAllowed ? 'block' : 'none';\n",
              "\n",
              "      async function convertToInteractive(key) {\n",
              "        const element = document.querySelector('#df-115bf0bb-cca1-4e41-96f4-1f1e5d5eab7f');\n",
              "        const dataTable =\n",
              "          await google.colab.kernel.invokeFunction('convertToInteractive',\n",
              "                                                    [key], {});\n",
              "        if (!dataTable) return;\n",
              "\n",
              "        const docLinkHtml = 'Like what you see? Visit the ' +\n",
              "          '<a target=\"_blank\" href=https://colab.research.google.com/notebooks/data_table.ipynb>data table notebook</a>'\n",
              "          + ' to learn more about interactive tables.';\n",
              "        element.innerHTML = '';\n",
              "        dataTable['output_type'] = 'display_data';\n",
              "        await google.colab.output.renderOutput(dataTable, element);\n",
              "        const docLink = document.createElement('div');\n",
              "        docLink.innerHTML = docLinkHtml;\n",
              "        element.appendChild(docLink);\n",
              "      }\n",
              "    </script>\n",
              "  </div>\n",
              "\n",
              "\n",
              "  <div id=\"id_e511de12-8123-45a0-af91-0bbcdc639c4b\">\n",
              "    <style>\n",
              "      .colab-df-generate {\n",
              "        background-color: #E8F0FE;\n",
              "        border: none;\n",
              "        border-radius: 50%;\n",
              "        cursor: pointer;\n",
              "        display: none;\n",
              "        fill: #1967D2;\n",
              "        height: 32px;\n",
              "        padding: 0 0 0 0;\n",
              "        width: 32px;\n",
              "      }\n",
              "\n",
              "      .colab-df-generate:hover {\n",
              "        background-color: #E2EBFA;\n",
              "        box-shadow: 0px 1px 2px rgba(60, 64, 67, 0.3), 0px 1px 3px 1px rgba(60, 64, 67, 0.15);\n",
              "        fill: #174EA6;\n",
              "      }\n",
              "\n",
              "      [theme=dark] .colab-df-generate {\n",
              "        background-color: #3B4455;\n",
              "        fill: #D2E3FC;\n",
              "      }\n",
              "\n",
              "      [theme=dark] .colab-df-generate:hover {\n",
              "        background-color: #434B5C;\n",
              "        box-shadow: 0px 1px 3px 1px rgba(0, 0, 0, 0.15);\n",
              "        filter: drop-shadow(0px 1px 2px rgba(0, 0, 0, 0.3));\n",
              "        fill: #FFFFFF;\n",
              "      }\n",
              "    </style>\n",
              "    <button class=\"colab-df-generate\" onclick=\"generateWithVariable('annies_row')\"\n",
              "            title=\"Generate code using this dataframe.\"\n",
              "            style=\"display:none;\">\n",
              "\n",
              "  <svg xmlns=\"http://www.w3.org/2000/svg\" height=\"24px\"viewBox=\"0 0 24 24\"\n",
              "       width=\"24px\">\n",
              "    <path d=\"M7,19H8.4L18.45,9,17,7.55,7,17.6ZM5,21V16.75L18.45,3.32a2,2,0,0,1,2.83,0l1.4,1.43a1.91,1.91,0,0,1,.58,1.4,1.91,1.91,0,0,1-.58,1.4L9.25,21ZM18.45,9,17,7.55Zm-12,3A5.31,5.31,0,0,0,4.9,8.1,5.31,5.31,0,0,0,1,6.5,5.31,5.31,0,0,0,4.9,4.9,5.31,5.31,0,0,0,6.5,1,5.31,5.31,0,0,0,8.1,4.9,5.31,5.31,0,0,0,12,6.5,5.46,5.46,0,0,0,6.5,12Z\"/>\n",
              "  </svg>\n",
              "    </button>\n",
              "    <script>\n",
              "      (() => {\n",
              "      const buttonEl =\n",
              "        document.querySelector('#id_e511de12-8123-45a0-af91-0bbcdc639c4b button.colab-df-generate');\n",
              "      buttonEl.style.display =\n",
              "        google.colab.kernel.accessAllowed ? 'block' : 'none';\n",
              "\n",
              "      buttonEl.onclick = () => {\n",
              "        google.colab.notebook.generateWithVariable('annies_row');\n",
              "      }\n",
              "      })();\n",
              "    </script>\n",
              "  </div>\n",
              "\n",
              "    </div>\n",
              "  </div>\n"
            ],
            "application/vnd.google.colaboratory.intrinsic+json": {
              "type": "dataframe",
              "variable_name": "annies_row",
              "repr_error": "0"
            }
          },
          "metadata": {},
          "execution_count": 23
        }
      ],
      "source": [
        "annies_row = df_vote[df_vote[\"Name\"]==\"Annie Mone\"]\n",
        "annies_row = annies_row[annies_row[\"DOB\"]==\"1/2/1961\"]\n",
        "annies_row"
      ]
    },
    {
      "cell_type": "markdown",
      "metadata": {
        "id": "cOSUrJ3Tovl8"
      },
      "source": [
        "<font color=\"green\"><b>¿Q?</b>: Join the databases on Date Of Birth and Zip code. This should be equivalent to the SQL query:</font>\n",
        "\n",
        "\n",
        "```sql\n",
        "SELECT *\n",
        "FROM annies_row AS a\n",
        "JOIN anonymised_df AS d\n",
        "ON a.DOB = d.DOB AND a.Zip = d.Zip;\n",
        "```\n",
        "\n",
        "_Tip_: `JOIN` in SQL $\\iff$ `merge` in Pandas"
      ]
    },
    {
      "cell_type": "code",
      "execution_count": 24,
      "metadata": {
        "colab": {
          "base_uri": "https://localhost:8080/",
          "height": 89
        },
        "id": "S9RZMb9Sovl8",
        "outputId": "d8fbc449-b577-46ba-a90f-705a72653a8e"
      },
      "outputs": [
        {
          "output_type": "execute_result",
          "data": {
            "text/plain": [
              "         Name          SSN       DOB    Zip Workclass Education  \\\n",
              "0  Annie Mone  142-23-2417  1/2/1961  14000  Musician   Masters   \n",
              "\n",
              "   Education-Num      Marital Status Occupation Relationship   Race     Sex  \\\n",
              "0             13  Married-civ-spouse   Musician         Wife  White  Female   \n",
              "\n",
              "   Hours per week Country Target  Age  Capital Gain  Capital Loss  \n",
              "0              40  France  <=50K   62             0             0  "
            ],
            "text/html": [
              "\n",
              "  <div id=\"df-210da793-4ff3-4887-a46e-1b1a795449bd\" class=\"colab-df-container\">\n",
              "    <div>\n",
              "<style scoped>\n",
              "    .dataframe tbody tr th:only-of-type {\n",
              "        vertical-align: middle;\n",
              "    }\n",
              "\n",
              "    .dataframe tbody tr th {\n",
              "        vertical-align: top;\n",
              "    }\n",
              "\n",
              "    .dataframe thead th {\n",
              "        text-align: right;\n",
              "    }\n",
              "</style>\n",
              "<table border=\"1\" class=\"dataframe\">\n",
              "  <thead>\n",
              "    <tr style=\"text-align: right;\">\n",
              "      <th></th>\n",
              "      <th>Name</th>\n",
              "      <th>SSN</th>\n",
              "      <th>DOB</th>\n",
              "      <th>Zip</th>\n",
              "      <th>Workclass</th>\n",
              "      <th>Education</th>\n",
              "      <th>Education-Num</th>\n",
              "      <th>Marital Status</th>\n",
              "      <th>Occupation</th>\n",
              "      <th>Relationship</th>\n",
              "      <th>Race</th>\n",
              "      <th>Sex</th>\n",
              "      <th>Hours per week</th>\n",
              "      <th>Country</th>\n",
              "      <th>Target</th>\n",
              "      <th>Age</th>\n",
              "      <th>Capital Gain</th>\n",
              "      <th>Capital Loss</th>\n",
              "    </tr>\n",
              "  </thead>\n",
              "  <tbody>\n",
              "    <tr>\n",
              "      <th>0</th>\n",
              "      <td>Annie Mone</td>\n",
              "      <td>142-23-2417</td>\n",
              "      <td>1/2/1961</td>\n",
              "      <td>14000</td>\n",
              "      <td>Musician</td>\n",
              "      <td>Masters</td>\n",
              "      <td>13</td>\n",
              "      <td>Married-civ-spouse</td>\n",
              "      <td>Musician</td>\n",
              "      <td>Wife</td>\n",
              "      <td>White</td>\n",
              "      <td>Female</td>\n",
              "      <td>40</td>\n",
              "      <td>France</td>\n",
              "      <td>&lt;=50K</td>\n",
              "      <td>62</td>\n",
              "      <td>0</td>\n",
              "      <td>0</td>\n",
              "    </tr>\n",
              "  </tbody>\n",
              "</table>\n",
              "</div>\n",
              "    <div class=\"colab-df-buttons\">\n",
              "\n",
              "  <div class=\"colab-df-container\">\n",
              "    <button class=\"colab-df-convert\" onclick=\"convertToInteractive('df-210da793-4ff3-4887-a46e-1b1a795449bd')\"\n",
              "            title=\"Convert this dataframe to an interactive table.\"\n",
              "            style=\"display:none;\">\n",
              "\n",
              "  <svg xmlns=\"http://www.w3.org/2000/svg\" height=\"24px\" viewBox=\"0 -960 960 960\">\n",
              "    <path d=\"M120-120v-720h720v720H120Zm60-500h600v-160H180v160Zm220 220h160v-160H400v160Zm0 220h160v-160H400v160ZM180-400h160v-160H180v160Zm440 0h160v-160H620v160ZM180-180h160v-160H180v160Zm440 0h160v-160H620v160Z\"/>\n",
              "  </svg>\n",
              "    </button>\n",
              "\n",
              "  <style>\n",
              "    .colab-df-container {\n",
              "      display:flex;\n",
              "      gap: 12px;\n",
              "    }\n",
              "\n",
              "    .colab-df-convert {\n",
              "      background-color: #E8F0FE;\n",
              "      border: none;\n",
              "      border-radius: 50%;\n",
              "      cursor: pointer;\n",
              "      display: none;\n",
              "      fill: #1967D2;\n",
              "      height: 32px;\n",
              "      padding: 0 0 0 0;\n",
              "      width: 32px;\n",
              "    }\n",
              "\n",
              "    .colab-df-convert:hover {\n",
              "      background-color: #E2EBFA;\n",
              "      box-shadow: 0px 1px 2px rgba(60, 64, 67, 0.3), 0px 1px 3px 1px rgba(60, 64, 67, 0.15);\n",
              "      fill: #174EA6;\n",
              "    }\n",
              "\n",
              "    .colab-df-buttons div {\n",
              "      margin-bottom: 4px;\n",
              "    }\n",
              "\n",
              "    [theme=dark] .colab-df-convert {\n",
              "      background-color: #3B4455;\n",
              "      fill: #D2E3FC;\n",
              "    }\n",
              "\n",
              "    [theme=dark] .colab-df-convert:hover {\n",
              "      background-color: #434B5C;\n",
              "      box-shadow: 0px 1px 3px 1px rgba(0, 0, 0, 0.15);\n",
              "      filter: drop-shadow(0px 1px 2px rgba(0, 0, 0, 0.3));\n",
              "      fill: #FFFFFF;\n",
              "    }\n",
              "  </style>\n",
              "\n",
              "    <script>\n",
              "      const buttonEl =\n",
              "        document.querySelector('#df-210da793-4ff3-4887-a46e-1b1a795449bd button.colab-df-convert');\n",
              "      buttonEl.style.display =\n",
              "        google.colab.kernel.accessAllowed ? 'block' : 'none';\n",
              "\n",
              "      async function convertToInteractive(key) {\n",
              "        const element = document.querySelector('#df-210da793-4ff3-4887-a46e-1b1a795449bd');\n",
              "        const dataTable =\n",
              "          await google.colab.kernel.invokeFunction('convertToInteractive',\n",
              "                                                    [key], {});\n",
              "        if (!dataTable) return;\n",
              "\n",
              "        const docLinkHtml = 'Like what you see? Visit the ' +\n",
              "          '<a target=\"_blank\" href=https://colab.research.google.com/notebooks/data_table.ipynb>data table notebook</a>'\n",
              "          + ' to learn more about interactive tables.';\n",
              "        element.innerHTML = '';\n",
              "        dataTable['output_type'] = 'display_data';\n",
              "        await google.colab.output.renderOutput(dataTable, element);\n",
              "        const docLink = document.createElement('div');\n",
              "        docLink.innerHTML = docLinkHtml;\n",
              "        element.appendChild(docLink);\n",
              "      }\n",
              "    </script>\n",
              "  </div>\n",
              "\n",
              "\n",
              "  <div id=\"id_ce2eb1e6-f0d1-4c22-b0c6-18eccb4f660b\">\n",
              "    <style>\n",
              "      .colab-df-generate {\n",
              "        background-color: #E8F0FE;\n",
              "        border: none;\n",
              "        border-radius: 50%;\n",
              "        cursor: pointer;\n",
              "        display: none;\n",
              "        fill: #1967D2;\n",
              "        height: 32px;\n",
              "        padding: 0 0 0 0;\n",
              "        width: 32px;\n",
              "      }\n",
              "\n",
              "      .colab-df-generate:hover {\n",
              "        background-color: #E2EBFA;\n",
              "        box-shadow: 0px 1px 2px rgba(60, 64, 67, 0.3), 0px 1px 3px 1px rgba(60, 64, 67, 0.15);\n",
              "        fill: #174EA6;\n",
              "      }\n",
              "\n",
              "      [theme=dark] .colab-df-generate {\n",
              "        background-color: #3B4455;\n",
              "        fill: #D2E3FC;\n",
              "      }\n",
              "\n",
              "      [theme=dark] .colab-df-generate:hover {\n",
              "        background-color: #434B5C;\n",
              "        box-shadow: 0px 1px 3px 1px rgba(0, 0, 0, 0.15);\n",
              "        filter: drop-shadow(0px 1px 2px rgba(0, 0, 0, 0.3));\n",
              "        fill: #FFFFFF;\n",
              "      }\n",
              "    </style>\n",
              "    <button class=\"colab-df-generate\" onclick=\"generateWithVariable('query')\"\n",
              "            title=\"Generate code using this dataframe.\"\n",
              "            style=\"display:none;\">\n",
              "\n",
              "  <svg xmlns=\"http://www.w3.org/2000/svg\" height=\"24px\"viewBox=\"0 0 24 24\"\n",
              "       width=\"24px\">\n",
              "    <path d=\"M7,19H8.4L18.45,9,17,7.55,7,17.6ZM5,21V16.75L18.45,3.32a2,2,0,0,1,2.83,0l1.4,1.43a1.91,1.91,0,0,1,.58,1.4,1.91,1.91,0,0,1-.58,1.4L9.25,21ZM18.45,9,17,7.55Zm-12,3A5.31,5.31,0,0,0,4.9,8.1,5.31,5.31,0,0,0,1,6.5,5.31,5.31,0,0,0,4.9,4.9,5.31,5.31,0,0,0,6.5,1,5.31,5.31,0,0,0,8.1,4.9,5.31,5.31,0,0,0,12,6.5,5.46,5.46,0,0,0,6.5,12Z\"/>\n",
              "  </svg>\n",
              "    </button>\n",
              "    <script>\n",
              "      (() => {\n",
              "      const buttonEl =\n",
              "        document.querySelector('#id_ce2eb1e6-f0d1-4c22-b0c6-18eccb4f660b button.colab-df-generate');\n",
              "      buttonEl.style.display =\n",
              "        google.colab.kernel.accessAllowed ? 'block' : 'none';\n",
              "\n",
              "      buttonEl.onclick = () => {\n",
              "        google.colab.notebook.generateWithVariable('query');\n",
              "      }\n",
              "      })();\n",
              "    </script>\n",
              "  </div>\n",
              "\n",
              "    </div>\n",
              "  </div>\n"
            ],
            "application/vnd.google.colaboratory.intrinsic+json": {
              "type": "dataframe",
              "variable_name": "query",
              "summary": "{\n  \"name\": \"query\",\n  \"rows\": 1,\n  \"fields\": [\n    {\n      \"column\": \"Name\",\n      \"properties\": {\n        \"dtype\": \"string\",\n        \"num_unique_values\": 1,\n        \"samples\": [\n          \"Annie Mone\"\n        ],\n        \"semantic_type\": \"\",\n        \"description\": \"\"\n      }\n    },\n    {\n      \"column\": \"SSN\",\n      \"properties\": {\n        \"dtype\": \"string\",\n        \"num_unique_values\": 1,\n        \"samples\": [\n          \"142-23-2417\"\n        ],\n        \"semantic_type\": \"\",\n        \"description\": \"\"\n      }\n    },\n    {\n      \"column\": \"DOB\",\n      \"properties\": {\n        \"dtype\": \"object\",\n        \"num_unique_values\": 1,\n        \"samples\": [\n          \"1/2/1961\"\n        ],\n        \"semantic_type\": \"\",\n        \"description\": \"\"\n      }\n    },\n    {\n      \"column\": \"Zip\",\n      \"properties\": {\n        \"dtype\": \"number\",\n        \"std\": null,\n        \"min\": 14000,\n        \"max\": 14000,\n        \"num_unique_values\": 1,\n        \"samples\": [\n          14000\n        ],\n        \"semantic_type\": \"\",\n        \"description\": \"\"\n      }\n    },\n    {\n      \"column\": \"Workclass\",\n      \"properties\": {\n        \"dtype\": \"string\",\n        \"num_unique_values\": 1,\n        \"samples\": [\n          \"Musician\"\n        ],\n        \"semantic_type\": \"\",\n        \"description\": \"\"\n      }\n    },\n    {\n      \"column\": \"Education\",\n      \"properties\": {\n        \"dtype\": \"string\",\n        \"num_unique_values\": 1,\n        \"samples\": [\n          \"Masters\"\n        ],\n        \"semantic_type\": \"\",\n        \"description\": \"\"\n      }\n    },\n    {\n      \"column\": \"Education-Num\",\n      \"properties\": {\n        \"dtype\": \"number\",\n        \"std\": null,\n        \"min\": 13,\n        \"max\": 13,\n        \"num_unique_values\": 1,\n        \"samples\": [\n          13\n        ],\n        \"semantic_type\": \"\",\n        \"description\": \"\"\n      }\n    },\n    {\n      \"column\": \"Marital Status\",\n      \"properties\": {\n        \"dtype\": \"string\",\n        \"num_unique_values\": 1,\n        \"samples\": [\n          \"Married-civ-spouse\"\n        ],\n        \"semantic_type\": \"\",\n        \"description\": \"\"\n      }\n    },\n    {\n      \"column\": \"Occupation\",\n      \"properties\": {\n        \"dtype\": \"string\",\n        \"num_unique_values\": 1,\n        \"samples\": [\n          \"Musician\"\n        ],\n        \"semantic_type\": \"\",\n        \"description\": \"\"\n      }\n    },\n    {\n      \"column\": \"Relationship\",\n      \"properties\": {\n        \"dtype\": \"string\",\n        \"num_unique_values\": 1,\n        \"samples\": [\n          \"Wife\"\n        ],\n        \"semantic_type\": \"\",\n        \"description\": \"\"\n      }\n    },\n    {\n      \"column\": \"Race\",\n      \"properties\": {\n        \"dtype\": \"string\",\n        \"num_unique_values\": 1,\n        \"samples\": [\n          \"White\"\n        ],\n        \"semantic_type\": \"\",\n        \"description\": \"\"\n      }\n    },\n    {\n      \"column\": \"Sex\",\n      \"properties\": {\n        \"dtype\": \"string\",\n        \"num_unique_values\": 1,\n        \"samples\": [\n          \"Female\"\n        ],\n        \"semantic_type\": \"\",\n        \"description\": \"\"\n      }\n    },\n    {\n      \"column\": \"Hours per week\",\n      \"properties\": {\n        \"dtype\": \"number\",\n        \"std\": null,\n        \"min\": 40,\n        \"max\": 40,\n        \"num_unique_values\": 1,\n        \"samples\": [\n          40\n        ],\n        \"semantic_type\": \"\",\n        \"description\": \"\"\n      }\n    },\n    {\n      \"column\": \"Country\",\n      \"properties\": {\n        \"dtype\": \"string\",\n        \"num_unique_values\": 1,\n        \"samples\": [\n          \"France\"\n        ],\n        \"semantic_type\": \"\",\n        \"description\": \"\"\n      }\n    },\n    {\n      \"column\": \"Target\",\n      \"properties\": {\n        \"dtype\": \"string\",\n        \"num_unique_values\": 1,\n        \"samples\": [\n          \"<=50K\"\n        ],\n        \"semantic_type\": \"\",\n        \"description\": \"\"\n      }\n    },\n    {\n      \"column\": \"Age\",\n      \"properties\": {\n        \"dtype\": \"number\",\n        \"std\": null,\n        \"min\": 62,\n        \"max\": 62,\n        \"num_unique_values\": 1,\n        \"samples\": [\n          62\n        ],\n        \"semantic_type\": \"\",\n        \"description\": \"\"\n      }\n    },\n    {\n      \"column\": \"Capital Gain\",\n      \"properties\": {\n        \"dtype\": \"number\",\n        \"std\": null,\n        \"min\": 0,\n        \"max\": 0,\n        \"num_unique_values\": 1,\n        \"samples\": [\n          0\n        ],\n        \"semantic_type\": \"\",\n        \"description\": \"\"\n      }\n    },\n    {\n      \"column\": \"Capital Loss\",\n      \"properties\": {\n        \"dtype\": \"number\",\n        \"std\": null,\n        \"min\": 0,\n        \"max\": 0,\n        \"num_unique_values\": 1,\n        \"samples\": [\n          0\n        ],\n        \"semantic_type\": \"\",\n        \"description\": \"\"\n      }\n    }\n  ]\n}"
            }
          },
          "metadata": {},
          "execution_count": 24
        }
      ],
      "source": [
        "# solution\n",
        "query = annies_row.merge(anonymised_df, how='inner', on=['DOB', 'Zip'])\n",
        "query"
      ]
    },
    {
      "cell_type": "markdown",
      "metadata": {
        "id": "KpGNXPKiovl8"
      },
      "source": [
        "<font color=\"red\">We can now infer Annie's salary from this linkage!!</font>\n",
        "\n",
        "---\n",
        "<font color=\"green\"><b>¿Q?</b>: If we only knew zip code, which information could we get?</font>\n",
        "\n"
      ]
    },
    {
      "cell_type": "code",
      "execution_count": 25,
      "metadata": {
        "colab": {
          "base_uri": "https://localhost:8080/",
          "height": 310
        },
        "id": "fVilSiWuovl8",
        "outputId": "dd5e2bed-fddb-4877-e1a5-1260d30b03e3"
      },
      "outputs": [
        {
          "output_type": "execute_result",
          "data": {
            "text/plain": [
              "         Name          SSN     DOB_x    Zip       DOB_y Workclass Education  \\\n",
              "0  Annie Mone  142-23-2417  1/2/1961  14000  12/22/1982   Private   7th-8th   \n",
              "1  Annie Mone  142-23-2417  1/2/1961  14000    1/2/1961  Musician   Masters   \n",
              "2  Annie Mone  142-23-2417  1/2/1961  14000    1/5/1978   Private   HS-grad   \n",
              "3  Annie Mone  142-23-2417  1/2/1961  14000   10/9/1990    Trader       NaN   \n",
              "4  Annie Mone  142-23-2417  1/2/1961  14000   10/9/1999  Producer   Masters   \n",
              "\n",
              "   Education-Num      Marital Status      Occupation   Relationship   Race  \\\n",
              "0              4  Married-civ-spouse   Other-service        Husband  White   \n",
              "1             13  Married-civ-spouse        Musician           Wife  White   \n",
              "2              9            Divorced    Adm-clerical  Not-in-family  White   \n",
              "3             13       Never-married           Money      Own-child  White   \n",
              "4             13  Married-civ-spouse  Music Producer           Wife  White   \n",
              "\n",
              "      Sex  Hours per week        Country Target  Age  Capital Gain  \\\n",
              "0    Male              40         Mexico  <=50K   41             0   \n",
              "1  Female              40         France  <=50K   62             0   \n",
              "2  Female              40  United-States  <=50K   45             0   \n",
              "3    Male               5         France   >50K   30       9882384   \n",
              "4  Female              40         France   >50K   20         25900   \n",
              "\n",
              "   Capital Loss  \n",
              "0             0  \n",
              "1             0  \n",
              "2             0  \n",
              "3             0  \n",
              "4             0  "
            ],
            "text/html": [
              "\n",
              "  <div id=\"df-19061865-9826-45e7-96eb-ee72f6bb1fe4\" class=\"colab-df-container\">\n",
              "    <div>\n",
              "<style scoped>\n",
              "    .dataframe tbody tr th:only-of-type {\n",
              "        vertical-align: middle;\n",
              "    }\n",
              "\n",
              "    .dataframe tbody tr th {\n",
              "        vertical-align: top;\n",
              "    }\n",
              "\n",
              "    .dataframe thead th {\n",
              "        text-align: right;\n",
              "    }\n",
              "</style>\n",
              "<table border=\"1\" class=\"dataframe\">\n",
              "  <thead>\n",
              "    <tr style=\"text-align: right;\">\n",
              "      <th></th>\n",
              "      <th>Name</th>\n",
              "      <th>SSN</th>\n",
              "      <th>DOB_x</th>\n",
              "      <th>Zip</th>\n",
              "      <th>DOB_y</th>\n",
              "      <th>Workclass</th>\n",
              "      <th>Education</th>\n",
              "      <th>Education-Num</th>\n",
              "      <th>Marital Status</th>\n",
              "      <th>Occupation</th>\n",
              "      <th>Relationship</th>\n",
              "      <th>Race</th>\n",
              "      <th>Sex</th>\n",
              "      <th>Hours per week</th>\n",
              "      <th>Country</th>\n",
              "      <th>Target</th>\n",
              "      <th>Age</th>\n",
              "      <th>Capital Gain</th>\n",
              "      <th>Capital Loss</th>\n",
              "    </tr>\n",
              "  </thead>\n",
              "  <tbody>\n",
              "    <tr>\n",
              "      <th>0</th>\n",
              "      <td>Annie Mone</td>\n",
              "      <td>142-23-2417</td>\n",
              "      <td>1/2/1961</td>\n",
              "      <td>14000</td>\n",
              "      <td>12/22/1982</td>\n",
              "      <td>Private</td>\n",
              "      <td>7th-8th</td>\n",
              "      <td>4</td>\n",
              "      <td>Married-civ-spouse</td>\n",
              "      <td>Other-service</td>\n",
              "      <td>Husband</td>\n",
              "      <td>White</td>\n",
              "      <td>Male</td>\n",
              "      <td>40</td>\n",
              "      <td>Mexico</td>\n",
              "      <td>&lt;=50K</td>\n",
              "      <td>41</td>\n",
              "      <td>0</td>\n",
              "      <td>0</td>\n",
              "    </tr>\n",
              "    <tr>\n",
              "      <th>1</th>\n",
              "      <td>Annie Mone</td>\n",
              "      <td>142-23-2417</td>\n",
              "      <td>1/2/1961</td>\n",
              "      <td>14000</td>\n",
              "      <td>1/2/1961</td>\n",
              "      <td>Musician</td>\n",
              "      <td>Masters</td>\n",
              "      <td>13</td>\n",
              "      <td>Married-civ-spouse</td>\n",
              "      <td>Musician</td>\n",
              "      <td>Wife</td>\n",
              "      <td>White</td>\n",
              "      <td>Female</td>\n",
              "      <td>40</td>\n",
              "      <td>France</td>\n",
              "      <td>&lt;=50K</td>\n",
              "      <td>62</td>\n",
              "      <td>0</td>\n",
              "      <td>0</td>\n",
              "    </tr>\n",
              "    <tr>\n",
              "      <th>2</th>\n",
              "      <td>Annie Mone</td>\n",
              "      <td>142-23-2417</td>\n",
              "      <td>1/2/1961</td>\n",
              "      <td>14000</td>\n",
              "      <td>1/5/1978</td>\n",
              "      <td>Private</td>\n",
              "      <td>HS-grad</td>\n",
              "      <td>9</td>\n",
              "      <td>Divorced</td>\n",
              "      <td>Adm-clerical</td>\n",
              "      <td>Not-in-family</td>\n",
              "      <td>White</td>\n",
              "      <td>Female</td>\n",
              "      <td>40</td>\n",
              "      <td>United-States</td>\n",
              "      <td>&lt;=50K</td>\n",
              "      <td>45</td>\n",
              "      <td>0</td>\n",
              "      <td>0</td>\n",
              "    </tr>\n",
              "    <tr>\n",
              "      <th>3</th>\n",
              "      <td>Annie Mone</td>\n",
              "      <td>142-23-2417</td>\n",
              "      <td>1/2/1961</td>\n",
              "      <td>14000</td>\n",
              "      <td>10/9/1990</td>\n",
              "      <td>Trader</td>\n",
              "      <td>NaN</td>\n",
              "      <td>13</td>\n",
              "      <td>Never-married</td>\n",
              "      <td>Money</td>\n",
              "      <td>Own-child</td>\n",
              "      <td>White</td>\n",
              "      <td>Male</td>\n",
              "      <td>5</td>\n",
              "      <td>France</td>\n",
              "      <td>&gt;50K</td>\n",
              "      <td>30</td>\n",
              "      <td>9882384</td>\n",
              "      <td>0</td>\n",
              "    </tr>\n",
              "    <tr>\n",
              "      <th>4</th>\n",
              "      <td>Annie Mone</td>\n",
              "      <td>142-23-2417</td>\n",
              "      <td>1/2/1961</td>\n",
              "      <td>14000</td>\n",
              "      <td>10/9/1999</td>\n",
              "      <td>Producer</td>\n",
              "      <td>Masters</td>\n",
              "      <td>13</td>\n",
              "      <td>Married-civ-spouse</td>\n",
              "      <td>Music Producer</td>\n",
              "      <td>Wife</td>\n",
              "      <td>White</td>\n",
              "      <td>Female</td>\n",
              "      <td>40</td>\n",
              "      <td>France</td>\n",
              "      <td>&gt;50K</td>\n",
              "      <td>20</td>\n",
              "      <td>25900</td>\n",
              "      <td>0</td>\n",
              "    </tr>\n",
              "  </tbody>\n",
              "</table>\n",
              "</div>\n",
              "    <div class=\"colab-df-buttons\">\n",
              "\n",
              "  <div class=\"colab-df-container\">\n",
              "    <button class=\"colab-df-convert\" onclick=\"convertToInteractive('df-19061865-9826-45e7-96eb-ee72f6bb1fe4')\"\n",
              "            title=\"Convert this dataframe to an interactive table.\"\n",
              "            style=\"display:none;\">\n",
              "\n",
              "  <svg xmlns=\"http://www.w3.org/2000/svg\" height=\"24px\" viewBox=\"0 -960 960 960\">\n",
              "    <path d=\"M120-120v-720h720v720H120Zm60-500h600v-160H180v160Zm220 220h160v-160H400v160Zm0 220h160v-160H400v160ZM180-400h160v-160H180v160Zm440 0h160v-160H620v160ZM180-180h160v-160H180v160Zm440 0h160v-160H620v160Z\"/>\n",
              "  </svg>\n",
              "    </button>\n",
              "\n",
              "  <style>\n",
              "    .colab-df-container {\n",
              "      display:flex;\n",
              "      gap: 12px;\n",
              "    }\n",
              "\n",
              "    .colab-df-convert {\n",
              "      background-color: #E8F0FE;\n",
              "      border: none;\n",
              "      border-radius: 50%;\n",
              "      cursor: pointer;\n",
              "      display: none;\n",
              "      fill: #1967D2;\n",
              "      height: 32px;\n",
              "      padding: 0 0 0 0;\n",
              "      width: 32px;\n",
              "    }\n",
              "\n",
              "    .colab-df-convert:hover {\n",
              "      background-color: #E2EBFA;\n",
              "      box-shadow: 0px 1px 2px rgba(60, 64, 67, 0.3), 0px 1px 3px 1px rgba(60, 64, 67, 0.15);\n",
              "      fill: #174EA6;\n",
              "    }\n",
              "\n",
              "    .colab-df-buttons div {\n",
              "      margin-bottom: 4px;\n",
              "    }\n",
              "\n",
              "    [theme=dark] .colab-df-convert {\n",
              "      background-color: #3B4455;\n",
              "      fill: #D2E3FC;\n",
              "    }\n",
              "\n",
              "    [theme=dark] .colab-df-convert:hover {\n",
              "      background-color: #434B5C;\n",
              "      box-shadow: 0px 1px 3px 1px rgba(0, 0, 0, 0.15);\n",
              "      filter: drop-shadow(0px 1px 2px rgba(0, 0, 0, 0.3));\n",
              "      fill: #FFFFFF;\n",
              "    }\n",
              "  </style>\n",
              "\n",
              "    <script>\n",
              "      const buttonEl =\n",
              "        document.querySelector('#df-19061865-9826-45e7-96eb-ee72f6bb1fe4 button.colab-df-convert');\n",
              "      buttonEl.style.display =\n",
              "        google.colab.kernel.accessAllowed ? 'block' : 'none';\n",
              "\n",
              "      async function convertToInteractive(key) {\n",
              "        const element = document.querySelector('#df-19061865-9826-45e7-96eb-ee72f6bb1fe4');\n",
              "        const dataTable =\n",
              "          await google.colab.kernel.invokeFunction('convertToInteractive',\n",
              "                                                    [key], {});\n",
              "        if (!dataTable) return;\n",
              "\n",
              "        const docLinkHtml = 'Like what you see? Visit the ' +\n",
              "          '<a target=\"_blank\" href=https://colab.research.google.com/notebooks/data_table.ipynb>data table notebook</a>'\n",
              "          + ' to learn more about interactive tables.';\n",
              "        element.innerHTML = '';\n",
              "        dataTable['output_type'] = 'display_data';\n",
              "        await google.colab.output.renderOutput(dataTable, element);\n",
              "        const docLink = document.createElement('div');\n",
              "        docLink.innerHTML = docLinkHtml;\n",
              "        element.appendChild(docLink);\n",
              "      }\n",
              "    </script>\n",
              "  </div>\n",
              "\n",
              "\n",
              "<div id=\"df-bbd08ed2-c4f2-4439-8158-a407cdbb8182\">\n",
              "  <button class=\"colab-df-quickchart\" onclick=\"quickchart('df-bbd08ed2-c4f2-4439-8158-a407cdbb8182')\"\n",
              "            title=\"Suggest charts\"\n",
              "            style=\"display:none;\">\n",
              "\n",
              "<svg xmlns=\"http://www.w3.org/2000/svg\" height=\"24px\"viewBox=\"0 0 24 24\"\n",
              "     width=\"24px\">\n",
              "    <g>\n",
              "        <path d=\"M19 3H5c-1.1 0-2 .9-2 2v14c0 1.1.9 2 2 2h14c1.1 0 2-.9 2-2V5c0-1.1-.9-2-2-2zM9 17H7v-7h2v7zm4 0h-2V7h2v10zm4 0h-2v-4h2v4z\"/>\n",
              "    </g>\n",
              "</svg>\n",
              "  </button>\n",
              "\n",
              "<style>\n",
              "  .colab-df-quickchart {\n",
              "      --bg-color: #E8F0FE;\n",
              "      --fill-color: #1967D2;\n",
              "      --hover-bg-color: #E2EBFA;\n",
              "      --hover-fill-color: #174EA6;\n",
              "      --disabled-fill-color: #AAA;\n",
              "      --disabled-bg-color: #DDD;\n",
              "  }\n",
              "\n",
              "  [theme=dark] .colab-df-quickchart {\n",
              "      --bg-color: #3B4455;\n",
              "      --fill-color: #D2E3FC;\n",
              "      --hover-bg-color: #434B5C;\n",
              "      --hover-fill-color: #FFFFFF;\n",
              "      --disabled-bg-color: #3B4455;\n",
              "      --disabled-fill-color: #666;\n",
              "  }\n",
              "\n",
              "  .colab-df-quickchart {\n",
              "    background-color: var(--bg-color);\n",
              "    border: none;\n",
              "    border-radius: 50%;\n",
              "    cursor: pointer;\n",
              "    display: none;\n",
              "    fill: var(--fill-color);\n",
              "    height: 32px;\n",
              "    padding: 0;\n",
              "    width: 32px;\n",
              "  }\n",
              "\n",
              "  .colab-df-quickchart:hover {\n",
              "    background-color: var(--hover-bg-color);\n",
              "    box-shadow: 0 1px 2px rgba(60, 64, 67, 0.3), 0 1px 3px 1px rgba(60, 64, 67, 0.15);\n",
              "    fill: var(--button-hover-fill-color);\n",
              "  }\n",
              "\n",
              "  .colab-df-quickchart-complete:disabled,\n",
              "  .colab-df-quickchart-complete:disabled:hover {\n",
              "    background-color: var(--disabled-bg-color);\n",
              "    fill: var(--disabled-fill-color);\n",
              "    box-shadow: none;\n",
              "  }\n",
              "\n",
              "  .colab-df-spinner {\n",
              "    border: 2px solid var(--fill-color);\n",
              "    border-color: transparent;\n",
              "    border-bottom-color: var(--fill-color);\n",
              "    animation:\n",
              "      spin 1s steps(1) infinite;\n",
              "  }\n",
              "\n",
              "  @keyframes spin {\n",
              "    0% {\n",
              "      border-color: transparent;\n",
              "      border-bottom-color: var(--fill-color);\n",
              "      border-left-color: var(--fill-color);\n",
              "    }\n",
              "    20% {\n",
              "      border-color: transparent;\n",
              "      border-left-color: var(--fill-color);\n",
              "      border-top-color: var(--fill-color);\n",
              "    }\n",
              "    30% {\n",
              "      border-color: transparent;\n",
              "      border-left-color: var(--fill-color);\n",
              "      border-top-color: var(--fill-color);\n",
              "      border-right-color: var(--fill-color);\n",
              "    }\n",
              "    40% {\n",
              "      border-color: transparent;\n",
              "      border-right-color: var(--fill-color);\n",
              "      border-top-color: var(--fill-color);\n",
              "    }\n",
              "    60% {\n",
              "      border-color: transparent;\n",
              "      border-right-color: var(--fill-color);\n",
              "    }\n",
              "    80% {\n",
              "      border-color: transparent;\n",
              "      border-right-color: var(--fill-color);\n",
              "      border-bottom-color: var(--fill-color);\n",
              "    }\n",
              "    90% {\n",
              "      border-color: transparent;\n",
              "      border-bottom-color: var(--fill-color);\n",
              "    }\n",
              "  }\n",
              "</style>\n",
              "\n",
              "  <script>\n",
              "    async function quickchart(key) {\n",
              "      const quickchartButtonEl =\n",
              "        document.querySelector('#' + key + ' button');\n",
              "      quickchartButtonEl.disabled = true;  // To prevent multiple clicks.\n",
              "      quickchartButtonEl.classList.add('colab-df-spinner');\n",
              "      try {\n",
              "        const charts = await google.colab.kernel.invokeFunction(\n",
              "            'suggestCharts', [key], {});\n",
              "      } catch (error) {\n",
              "        console.error('Error during call to suggestCharts:', error);\n",
              "      }\n",
              "      quickchartButtonEl.classList.remove('colab-df-spinner');\n",
              "      quickchartButtonEl.classList.add('colab-df-quickchart-complete');\n",
              "    }\n",
              "    (() => {\n",
              "      let quickchartButtonEl =\n",
              "        document.querySelector('#df-bbd08ed2-c4f2-4439-8158-a407cdbb8182 button');\n",
              "      quickchartButtonEl.style.display =\n",
              "        google.colab.kernel.accessAllowed ? 'block' : 'none';\n",
              "    })();\n",
              "  </script>\n",
              "</div>\n",
              "\n",
              "  <div id=\"id_776b3d8d-2597-4d1d-9339-701b7c9e64f3\">\n",
              "    <style>\n",
              "      .colab-df-generate {\n",
              "        background-color: #E8F0FE;\n",
              "        border: none;\n",
              "        border-radius: 50%;\n",
              "        cursor: pointer;\n",
              "        display: none;\n",
              "        fill: #1967D2;\n",
              "        height: 32px;\n",
              "        padding: 0 0 0 0;\n",
              "        width: 32px;\n",
              "      }\n",
              "\n",
              "      .colab-df-generate:hover {\n",
              "        background-color: #E2EBFA;\n",
              "        box-shadow: 0px 1px 2px rgba(60, 64, 67, 0.3), 0px 1px 3px 1px rgba(60, 64, 67, 0.15);\n",
              "        fill: #174EA6;\n",
              "      }\n",
              "\n",
              "      [theme=dark] .colab-df-generate {\n",
              "        background-color: #3B4455;\n",
              "        fill: #D2E3FC;\n",
              "      }\n",
              "\n",
              "      [theme=dark] .colab-df-generate:hover {\n",
              "        background-color: #434B5C;\n",
              "        box-shadow: 0px 1px 3px 1px rgba(0, 0, 0, 0.15);\n",
              "        filter: drop-shadow(0px 1px 2px rgba(0, 0, 0, 0.3));\n",
              "        fill: #FFFFFF;\n",
              "      }\n",
              "    </style>\n",
              "    <button class=\"colab-df-generate\" onclick=\"generateWithVariable('query')\"\n",
              "            title=\"Generate code using this dataframe.\"\n",
              "            style=\"display:none;\">\n",
              "\n",
              "  <svg xmlns=\"http://www.w3.org/2000/svg\" height=\"24px\"viewBox=\"0 0 24 24\"\n",
              "       width=\"24px\">\n",
              "    <path d=\"M7,19H8.4L18.45,9,17,7.55,7,17.6ZM5,21V16.75L18.45,3.32a2,2,0,0,1,2.83,0l1.4,1.43a1.91,1.91,0,0,1,.58,1.4,1.91,1.91,0,0,1-.58,1.4L9.25,21ZM18.45,9,17,7.55Zm-12,3A5.31,5.31,0,0,0,4.9,8.1,5.31,5.31,0,0,0,1,6.5,5.31,5.31,0,0,0,4.9,4.9,5.31,5.31,0,0,0,6.5,1,5.31,5.31,0,0,0,8.1,4.9,5.31,5.31,0,0,0,12,6.5,5.46,5.46,0,0,0,6.5,12Z\"/>\n",
              "  </svg>\n",
              "    </button>\n",
              "    <script>\n",
              "      (() => {\n",
              "      const buttonEl =\n",
              "        document.querySelector('#id_776b3d8d-2597-4d1d-9339-701b7c9e64f3 button.colab-df-generate');\n",
              "      buttonEl.style.display =\n",
              "        google.colab.kernel.accessAllowed ? 'block' : 'none';\n",
              "\n",
              "      buttonEl.onclick = () => {\n",
              "        google.colab.notebook.generateWithVariable('query');\n",
              "      }\n",
              "      })();\n",
              "    </script>\n",
              "  </div>\n",
              "\n",
              "    </div>\n",
              "  </div>\n"
            ],
            "application/vnd.google.colaboratory.intrinsic+json": {
              "type": "dataframe",
              "variable_name": "query",
              "summary": "{\n  \"name\": \"query\",\n  \"rows\": 5,\n  \"fields\": [\n    {\n      \"column\": \"Name\",\n      \"properties\": {\n        \"dtype\": \"category\",\n        \"num_unique_values\": 1,\n        \"samples\": [\n          \"Annie Mone\"\n        ],\n        \"semantic_type\": \"\",\n        \"description\": \"\"\n      }\n    },\n    {\n      \"column\": \"SSN\",\n      \"properties\": {\n        \"dtype\": \"category\",\n        \"num_unique_values\": 1,\n        \"samples\": [\n          \"142-23-2417\"\n        ],\n        \"semantic_type\": \"\",\n        \"description\": \"\"\n      }\n    },\n    {\n      \"column\": \"DOB_x\",\n      \"properties\": {\n        \"dtype\": \"object\",\n        \"num_unique_values\": 1,\n        \"samples\": [\n          \"1/2/1961\"\n        ],\n        \"semantic_type\": \"\",\n        \"description\": \"\"\n      }\n    },\n    {\n      \"column\": \"Zip\",\n      \"properties\": {\n        \"dtype\": \"number\",\n        \"std\": 0,\n        \"min\": 14000,\n        \"max\": 14000,\n        \"num_unique_values\": 1,\n        \"samples\": [\n          14000\n        ],\n        \"semantic_type\": \"\",\n        \"description\": \"\"\n      }\n    },\n    {\n      \"column\": \"DOB_y\",\n      \"properties\": {\n        \"dtype\": \"object\",\n        \"num_unique_values\": 5,\n        \"samples\": [\n          \"1/2/1961\"\n        ],\n        \"semantic_type\": \"\",\n        \"description\": \"\"\n      }\n    },\n    {\n      \"column\": \"Workclass\",\n      \"properties\": {\n        \"dtype\": \"string\",\n        \"num_unique_values\": 4,\n        \"samples\": [\n          \"Musician\"\n        ],\n        \"semantic_type\": \"\",\n        \"description\": \"\"\n      }\n    },\n    {\n      \"column\": \"Education\",\n      \"properties\": {\n        \"dtype\": \"string\",\n        \"num_unique_values\": 3,\n        \"samples\": [\n          \"7th-8th\"\n        ],\n        \"semantic_type\": \"\",\n        \"description\": \"\"\n      }\n    },\n    {\n      \"column\": \"Education-Num\",\n      \"properties\": {\n        \"dtype\": \"number\",\n        \"std\": 3,\n        \"min\": 4,\n        \"max\": 13,\n        \"num_unique_values\": 3,\n        \"samples\": [\n          4\n        ],\n        \"semantic_type\": \"\",\n        \"description\": \"\"\n      }\n    },\n    {\n      \"column\": \"Marital Status\",\n      \"properties\": {\n        \"dtype\": \"string\",\n        \"num_unique_values\": 3,\n        \"samples\": [\n          \"Married-civ-spouse\"\n        ],\n        \"semantic_type\": \"\",\n        \"description\": \"\"\n      }\n    },\n    {\n      \"column\": \"Occupation\",\n      \"properties\": {\n        \"dtype\": \"string\",\n        \"num_unique_values\": 5,\n        \"samples\": [\n          \"Musician\"\n        ],\n        \"semantic_type\": \"\",\n        \"description\": \"\"\n      }\n    },\n    {\n      \"column\": \"Relationship\",\n      \"properties\": {\n        \"dtype\": \"string\",\n        \"num_unique_values\": 4,\n        \"samples\": [\n          \"Wife\"\n        ],\n        \"semantic_type\": \"\",\n        \"description\": \"\"\n      }\n    },\n    {\n      \"column\": \"Race\",\n      \"properties\": {\n        \"dtype\": \"category\",\n        \"num_unique_values\": 1,\n        \"samples\": [\n          \"White\"\n        ],\n        \"semantic_type\": \"\",\n        \"description\": \"\"\n      }\n    },\n    {\n      \"column\": \"Sex\",\n      \"properties\": {\n        \"dtype\": \"category\",\n        \"num_unique_values\": 2,\n        \"samples\": [\n          \"Female\"\n        ],\n        \"semantic_type\": \"\",\n        \"description\": \"\"\n      }\n    },\n    {\n      \"column\": \"Hours per week\",\n      \"properties\": {\n        \"dtype\": \"number\",\n        \"std\": 15,\n        \"min\": 5,\n        \"max\": 40,\n        \"num_unique_values\": 2,\n        \"samples\": [\n          5\n        ],\n        \"semantic_type\": \"\",\n        \"description\": \"\"\n      }\n    },\n    {\n      \"column\": \"Country\",\n      \"properties\": {\n        \"dtype\": \"string\",\n        \"num_unique_values\": 3,\n        \"samples\": [\n          \"Mexico\"\n        ],\n        \"semantic_type\": \"\",\n        \"description\": \"\"\n      }\n    },\n    {\n      \"column\": \"Target\",\n      \"properties\": {\n        \"dtype\": \"category\",\n        \"num_unique_values\": 2,\n        \"samples\": [\n          \">50K\"\n        ],\n        \"semantic_type\": \"\",\n        \"description\": \"\"\n      }\n    },\n    {\n      \"column\": \"Age\",\n      \"properties\": {\n        \"dtype\": \"number\",\n        \"std\": 15,\n        \"min\": 20,\n        \"max\": 62,\n        \"num_unique_values\": 5,\n        \"samples\": [\n          62\n        ],\n        \"semantic_type\": \"\",\n        \"description\": \"\"\n      }\n    },\n    {\n      \"column\": \"Capital Gain\",\n      \"properties\": {\n        \"dtype\": \"number\",\n        \"std\": 4416655,\n        \"min\": 0,\n        \"max\": 9882384,\n        \"num_unique_values\": 3,\n        \"samples\": [\n          0\n        ],\n        \"semantic_type\": \"\",\n        \"description\": \"\"\n      }\n    },\n    {\n      \"column\": \"Capital Loss\",\n      \"properties\": {\n        \"dtype\": \"number\",\n        \"std\": 0,\n        \"min\": 0,\n        \"max\": 0,\n        \"num_unique_values\": 1,\n        \"samples\": [\n          0\n        ],\n        \"semantic_type\": \"\",\n        \"description\": \"\"\n      }\n    }\n  ]\n}"
            }
          },
          "metadata": {},
          "execution_count": 25
        }
      ],
      "source": [
        "query=annies_row.merge(anonymised_df, how='inner', on=['Zip'])\n",
        "query"
      ]
    },
    {
      "cell_type": "markdown",
      "metadata": {
        "id": "KUzttQZLovl9"
      },
      "source": [
        "# 1.2 How Many People can we Re-Identify?"
      ]
    },
    {
      "cell_type": "markdown",
      "metadata": {
        "id": "NzSZUC6tovl9"
      },
      "source": [
        "<font color=\"green\"><b>¿Q?</b>: How unique is a birthdate? Show how many people share the same exact birthdate</font>"
      ]
    },
    {
      "cell_type": "code",
      "execution_count": 26,
      "metadata": {
        "colab": {
          "base_uri": "https://localhost:8080/",
          "height": 686
        },
        "id": "Qx65LS2sovl9",
        "outputId": "c3b554b5-c733-499f-f967-b956372d627f"
      },
      "outputs": [
        {
          "output_type": "stream",
          "name": "stdout",
          "text": [
            "DOB\n",
            "4/10/1959     1\n",
            "12/13/1969    1\n",
            "7/17/1965     1\n",
            "11/26/1979    1\n",
            "3/5/1958      1\n",
            "             ..\n",
            "12/20/1970    7\n",
            "6/28/2005     7\n",
            "7/22/1999     7\n",
            "2/6/1988      7\n",
            "10/23/1983    8\n",
            "Name: count, Length: 17311, dtype: int64\n"
          ]
        },
        {
          "output_type": "display_data",
          "data": {
            "text/plain": [
              "<Figure size 640x480 with 1 Axes>"
            ],
            "image/png": "[encoded data removed]"
          },
          "metadata": {}
        }
      ],
      "source": [
        "identifiable_birthday = anonymised_df[\"DOB\"].value_counts().sort_values()\n",
        "identifiable_birthday.hist(rwidth=0.5)\n",
        "print(identifiable_birthday)\n",
        "\n",
        "plt.xlabel('Number of Dates of Birth shared accros rows')\n",
        "plt.ylabel('Number of Occurrences');\n",
        "plt.show()"
      ]
    },
    {
      "cell_type": "markdown",
      "metadata": {
        "id": "9487D06Xovl9"
      },
      "source": [
        "<font color=\"green\"><b>¿Q?</b>: How unique is a Zip Code? Show how many people share the same exact Zip code</font>\n"
      ]
    },
    {
      "cell_type": "code",
      "execution_count": 27,
      "metadata": {
        "colab": {
          "base_uri": "https://localhost:8080/",
          "height": 686
        },
        "id": "HMAmXnNOovl-",
        "outputId": "99a7e26c-6fe9-4bd1-f08a-b908eeb83d0c"
      },
      "outputs": [
        {
          "output_type": "stream",
          "name": "stdout",
          "text": [
            "Zip\n",
            "35314    1\n",
            "4716     1\n",
            "4957     1\n",
            "39745    1\n",
            "61095    1\n",
            "        ..\n",
            "14000    5\n",
            "32527    5\n",
            "69315    5\n",
            "39163    5\n",
            "35283    5\n",
            "Name: count, Length: 27791, dtype: int64\n"
          ]
        },
        {
          "output_type": "display_data",
          "data": {
            "text/plain": [
              "<Figure size 640x480 with 1 Axes>"
            ],
            "image/png": "[encoded data removed]"
          },
          "metadata": {}
        }
      ],
      "source": [
        "identifiable_zip= anonymised_df[\"Zip\"].value_counts()\n",
        "identifiable_zip.hist(rwidth=0.5)\n",
        "print(identifiable_zip.sort_values())\n",
        "\n",
        "plt.xlabel('Number of Zip code shared accros rows')\n",
        "plt.ylabel('Number of Occurrences')\n",
        "plt.show()"
      ]
    },
    {
      "cell_type": "markdown",
      "metadata": {
        "id": "UZT5p3mEovl-"
      },
      "source": [
        "<font color=\"green\"><b>¿Q?</b>:\n",
        "How many people are vulnerable to linkage attacks?\n",
        "\n",
        "\n",
        "Count the number of unique names when joining the two tables on some attributes you choose</font>"
      ]
    },
    {
      "cell_type": "code",
      "execution_count": 28,
      "metadata": {
        "colab": {
          "base_uri": "https://localhost:8080/",
          "height": 430
        },
        "id": "wPK4g6URovl-",
        "outputId": "82fb937d-558d-438d-a75a-9a75866cbba0"
      },
      "outputs": [
        {
          "output_type": "display_data",
          "data": {
            "text/plain": [
              "<Figure size 640x480 with 1 Axes>"
            ],
            "image/png": "[encoded data removed]"
          },
          "metadata": {}
        }
      ],
      "source": [
        "linkage = anonymised_df.merge(df_vote, how='inner', on=['DOB'])\n",
        "linkage['Name'].value_counts().hist();"
      ]
    },
    {
      "cell_type": "markdown",
      "metadata": {
        "id": "K4aUVqwyovl-"
      },
      "source": [
        "Using more information we should re identify more individuals as there should be less conflicts\n",
        "\n",
        "<font color=\"green\"><b>¿Q?</b>: Join the tables using more than one attribute</font>\n",
        "\n",
        "_Tip_: you can use \"DOB\" and \"Zip\""
      ]
    },
    {
      "cell_type": "code",
      "execution_count": 29,
      "metadata": {
        "colab": {
          "base_uri": "https://localhost:8080/",
          "height": 430
        },
        "id": "UpNQyeb3ovl-",
        "outputId": "7198b3f2-ae01-43f1-d9ab-88bf7f734389"
      },
      "outputs": [
        {
          "output_type": "display_data",
          "data": {
            "text/plain": [
              "<Figure size 640x480 with 1 Axes>"
            ],
            "image/png": "[encoded data removed]"
          },
          "metadata": {}
        }
      ],
      "source": [
        "linkage = anonymised_df.merge(df_vote, how='inner', on=['DOB', 'Zip'])\n",
        "linkage['Name'].value_counts().hist();"
      ]
    },
    {
      "cell_type": "markdown",
      "metadata": {
        "id": "WqSwoxJqovl-"
      },
      "source": [
        "💡 In the original paper pointing out linkage attacks (Sweeney, Latanya (2000). “Simple Demographics Often Identify People Uniquely”.), the author shows that **87% of people in the US can be uniquely re-identified by the combination of date of birth, gender, and ZIP code.** 💡"
      ]
    },
    {
      "cell_type": "markdown",
      "metadata": {
        "id": "9hBunniRovl_"
      },
      "source": [
        "___\n",
        "\n",
        "# 2. K-anonymity\n",
        "\n",
        "**K-anonymity definition**:\n",
        "\n",
        "Formally, a dataset $D$ satisfies $k$-Anonymity for a given $k$ if:  \n",
        "\n",
        "$$  \n",
        "\\forall r_1 \\in D, \\quad \\exists \\text{ at least } k-1 \\text{ other rows } r_2, \\dots, r_k \\in D  \n",
        "$$  \n",
        "\n",
        "such that:  \n",
        "\n",
        "$$  \n",
        "\\Pi_{qi(D)} r_1 = \\Pi_{qi(D)} r_2 = \\dots = \\Pi_{qi(D)} r_k  \n",
        "$$  \n",
        "\n",
        "where $r_i$ are rows of the dataset, $qi(D)$ is the quasi-identifiers of $D$, and $\\Pi_qi(D)$ is the projection onto these quasi-identifiers  "
      ]
    },
    {
      "cell_type": "markdown",
      "metadata": {
        "id": "J95701Igovl_"
      },
      "source": [
        "## 2.1 Verify K-anonymity\n",
        "<font color=\"green\"><b>¿Q?</b>: Write a function which given a dataframe states if it satisfies K-anonymity</font>\n",
        "\n",
        "_Tip_:`df.groupby(columns)` groups elements in the dataframe by columns. You can then apply count, mean, or other functions to the aggregated groups\n"
      ]
    },
    {
      "cell_type": "code",
      "execution_count": 30,
      "metadata": {
        "id": "IseG22jDovl_"
      },
      "outputs": [],
      "source": [
        "def check_k_anonymity(df, k, quasi_identifiers):\n",
        "    grouped_counts = df.groupby(quasi_identifiers).size()\n",
        "    is_k_anonymous = (grouped_counts >= k).all()\n",
        "    return bool(is_k_anonymous)"
      ]
    },
    {
      "cell_type": "markdown",
      "metadata": {
        "id": "H3QKGz19ovmA"
      },
      "source": [
        "Verify you code here. The dataset if $2$-anonymous (it is always $1$-anonymous)"
      ]
    },
    {
      "cell_type": "code",
      "execution_count": 31,
      "metadata": {
        "id": "MpXhDk6JovmB",
        "colab": {
          "base_uri": "https://localhost:8080/"
        },
        "outputId": "751b4ca7-25f4-47ce-ecdf-0c40b7a6c149"
      },
      "outputs": [
        {
          "output_type": "stream",
          "name": "stdout",
          "text": [
            "True\n"
          ]
        }
      ],
      "source": [
        "# Example usage:\n",
        "toy_df = pd.DataFrame({\n",
        "    \"Age\": [25, 30, 25, 40, 30, 25],\n",
        "    \"Zip\": [\"12345\", \"12345\", \"67890\", \"67890\", \"12345\", \"67890\"],\n",
        "    \"Sex\": [\"Male\", \"Male\", \"Female\", \"Male\", \"Female\", \"Female\"]\n",
        "})\n",
        "\n",
        "quasi_identifiers = [\"Age\", \"Zip\"]\n",
        "k = 1\n",
        "\n",
        "print(check_k_anonymity(toy_df, k=k, quasi_identifiers=quasi_identifiers))  # Output: True or False"
      ]
    },
    {
      "cell_type": "markdown",
      "metadata": {
        "id": "_Fi5-9V1ovmB"
      },
      "source": [
        "## 2.2 Make the dataset K-anonymous"
      ]
    },
    {
      "cell_type": "markdown",
      "metadata": {
        "id": "kbxaQXWNovmB"
      },
      "source": [
        "<font color=\"green\"><b>¿Q?</b>: Release a simplified version of the dataset, only using Zip, Age and Capital Loss which satisfies $2$-anonymity\n",
        "\n",
        "Verify the new dataset is indeed K-anonymous\n",
        "</font>\n"
      ]
    },
    {
      "cell_type": "code",
      "execution_count": 40,
      "metadata": {
        "id": "jyTzMQrFovmC",
        "colab": {
          "base_uri": "https://localhost:8080/"
        },
        "outputId": "2d47ce64-daa3-4cc5-df5b-6cd1d03da398"
      },
      "outputs": [
        {
          "output_type": "stream",
          "name": "stdout",
          "text": [
            "     Age    Zip  count\n",
            "310   60   4XXX      1\n",
            "361   80  53XXX      1\n"
          ]
        }
      ],
      "source": [
        "k_anonymous_df = not_anonymised_df[['Zip', 'Age', 'Capital Loss']].copy()\n",
        "\n",
        "k_anonymous_df['Age'] = (k_anonymous_df['Age'] // 20) * 20\n",
        "k_anonymous_df['Zip'] = k_anonymous_df['Zip'].astype(str).str[:2] + 'XXX'\n",
        "\n",
        "violating_groups = k_anonymous_df.groupby(['Age', 'Zip']).size().reset_index(name='count')\n",
        "violating_groups = violating_groups[violating_groups['count'] < 2]\n",
        "print(violating_groups)\n"
      ]
    },
    {
      "cell_type": "code",
      "execution_count": 41,
      "metadata": {
        "id": "Ngk529KRovmC",
        "colab": {
          "base_uri": "https://localhost:8080/"
        },
        "outputId": "9c2371e2-5292-4c17-b3ef-03801e6ef07b"
      },
      "outputs": [
        {
          "output_type": "execute_result",
          "data": {
            "text/plain": [
              "True"
            ]
          },
          "metadata": {},
          "execution_count": 41
        }
      ],
      "source": [
        "k_anonymous_df = k_anonymous_df.groupby(['Age', 'Zip']).filter(lambda x: len(x) >= 2)\n",
        "\n",
        "check_k_anonymity(k_anonymous_df,quasi_identifiers=[\"Age\", \"Zip\"],k=2)"
      ]
    },
    {
      "cell_type": "markdown",
      "source": [
        "**[Vinicius]** : To ensure 2-anonymity, I first generalized the `Age` and `Zip` columns into broader buckets. After doing so, only two unique combinations still violated the requirement. I applied a group filter to remove those rare cases, which allowed the dataset to fully satisfy 2-anonymity without excessive generalization.\n"
      ],
      "metadata": {
        "id": "NgR4gX2-N_1D"
      }
    },
    {
      "cell_type": "markdown",
      "metadata": {
        "id": "uHSSG2NmovmL"
      },
      "source": [
        "---\n",
        "\n",
        "# 3. Differential Privacy\n",
        "\n",
        "Remember the following setting from the Introduction to Privacy for Machine Learning Class\n",
        "\n",
        "- **Dataset** $\\mathbf{X}=(x_1,...x_n)$\n",
        "- **Mechanism** $\\mathcal{Y}$-valued $M$ s.t $\\forall x, M(x)=\\phi(x,U)$ where $\\phi$ is deterministic and $U$ a random seed\n",
        "- **Neighbour datasets** $\\mathbf{X}, \\mathbf{X'}$ such that $d(\\mathbf{X},\\mathbf{X'})=1$ $\\iff$ they match all records but one\n",
        "\n",
        "\n",
        "A mechanism $M$ being $\\mathcal{Y}$-valued is $\\epsilon-\\text{DP}$ for some $\\epsilon \\geq 0$ $\\iff$ $\\forall \\mathbf{X},\\mathbf{X'} / d(\\mathbf{X},\\mathbf{X'})=1$ and $\\forall \\mathcal{S} \\subset \\mathcal{Y}$  we have\n",
        "\n",
        "$$\n",
        "\\boxed{\\mathbb{P}(M(\\mathbf{X})\\in S)\\leq e^\\epsilon.\\mathbb{P}(M(\\mathbf{X'})\\in S)}\n",
        "$$\n",
        "\n",
        "\n",
        "**In practice**:\n",
        "\n",
        "In practise to make a query differentially private, we can **add some noise to the original output of the query**:\n",
        "\n",
        "Let us consider a deterministic function $f : x \\mapsto f(x)$\n",
        "\n",
        "Sensitivity of $f$ is $D=\\max(f)-\\min(f)$\n",
        "\n",
        "To make the output of f $\\epsilon$-DP, we add some Laplacian noise of mean=0 and scale=$\\frac{D}{\\epsilon}$\n",
        "\n",
        "\n",
        "\n",
        "Here is a code snipet illustrating an $\\epsilon$-DP query:\n",
        "\n",
        "\n",
        "```python\n",
        "import numpy as np\n",
        "def differentially_private_output(query_output, epsilon, sensitivity):\n",
        "    scale = sensitivity/epsilon\n",
        "    return query_output  + np.random.laplace(loc=0, scale=scale, size=n)\n",
        "```"
      ]
    },
    {
      "cell_type": "markdown",
      "metadata": {
        "id": "S3ZN6z-sovmM"
      },
      "source": [
        "## 3.1 Differential Privacy on a simple query"
      ]
    },
    {
      "cell_type": "markdown",
      "metadata": {
        "id": "2Yp5UY76ovmM"
      },
      "source": [
        "Differential Privacy is often used to make **the output of a query private**. This can be the case for exemple for couting queries or mean.\n",
        "\n",
        "<font color=\"green\"><b>¿Q?</b>: Make the following query Differentialy Private</font>\n",
        "\n",
        "```sql\n",
        "SELECT COUNT(*)\n",
        "FROM not_anonymised_df\n",
        "WHERE Target = '<=50K'\n",
        "AND Name = Annie Mone;\n",
        "```"
      ]
    },
    {
      "cell_type": "code",
      "execution_count": 53,
      "metadata": {
        "id": "NmAzawzdovmM",
        "colab": {
          "base_uri": "https://localhost:8080/"
        },
        "outputId": "16a217d0-5d3f-485d-f234-78e2516fccdc"
      },
      "outputs": [
        {
          "output_type": "stream",
          "name": "stdout",
          "text": [
            "The real count is 1\n",
            "The DP count is [3.14680601]\n"
          ]
        }
      ],
      "source": [
        "epsilon = 1\n",
        "sensitivity = 1\n",
        "\n",
        "def differentially_private_output(query_output, epsilon, sensitivity):\n",
        "    scale = sensitivity/epsilon\n",
        "    return query_output  + np.random.laplace(loc=0, scale=scale, size=1)\n",
        "\n",
        "annies_row = not_anonymised_df[(not_anonymised_df[\"Target\"]=='<=50K') & (not_anonymised_df[\"Name\"]=='Annie Mone')]\n",
        "\n",
        "real_count = annies_row.shape[0]\n",
        "\n",
        "print(f\"The real count is {real_count}\")\n",
        "\n",
        "dp_count = differentially_private_output(real_count, epsilon, sensitivity)\n",
        "\n",
        "print(f\"The DP count is {dp_count}\")"
      ]
    },
    {
      "cell_type": "markdown",
      "metadata": {
        "id": "MUOEgc1IovmM"
      },
      "source": [
        "<font color=\"green\"><b>¿Q?</b>: What would happen if an attacker could access to the output of this query an infinite number of times?</font>"
      ]
    },
    {
      "cell_type": "markdown",
      "source": [
        "**[Vinicius] :** If an attacker could access the output of this query an infinite number of times, they could average the results and cancel out the noise added by the differential privacy mechanism. Over time, the noisy counts would converge to the true value (in this case, 1), effectively defeating the privacy protection. This is why differential privacy requires limiting the number of times a query can be made — or tracking a privacy budget — to ensure that privacy guarantees are not lost due to repeated access."
      ],
      "metadata": {
        "id": "bwp-IpIhPlzz"
      }
    },
    {
      "cell_type": "markdown",
      "metadata": {
        "id": "YMjJKEpLovmN"
      },
      "source": [
        "## 3.2 Logistic regression with differential privacy\n",
        "\n",
        "We have at hand a dataset composed of:\n",
        "- Features $\\mathbf{X}=(\\mathbf{x_1}, ..., \\mathbf{x_N})$ where each point $x_i \\in \\mathbb{R}^d$ , that is $\\mathbf{x_i}=(x_i^1, ..., x_i^d)$\n",
        "- Labels $\\mathbf{y} = (y_1, ..., y_N)$ and each $y_i \\in \\{-1,1\\}$\n",
        "\n",
        "(That is for each entry in the database ($\\forall x_i \\in \\mathbf{X}$), there is a binary label corresponding to this entry)\n",
        "\n",
        "In this section we want to create a classifier that predicts label $y$ given $x$ as an input. We use the simple yet illustrative approach of **logistic regression**\n",
        "Which aims to learn a linear classier $f_\\theta$ parametrised by $\\theta=(w_1,...,w_d)$ and the bias $b$ and is defined as:\n",
        "\n",
        "$$\n",
        "f_\\theta(x)=\\sigma\\left(\\sum_{i=1}^d w_i.x^i+b\\right)\n",
        "$$\n",
        "\n",
        "Where $\\sigma :x \\mapsto \\frac{1}{1+\\exp(-x)}$ is the sigmoid function.\n",
        "The model finally represents:\n",
        "$$\n",
        "\\boxed{f_\\theta(x)=\\mathbb{P}_\\theta(y=1|\\mathbf{x})}\n",
        "$$\n",
        "\n",
        "The weights are learned on the training set such that when the dot product between the weights and the input $\\mathbf{x}$ is computed, it is of the same sign as the label $y$ we are trying to predict\n",
        "\n",
        "**For the sake of simplicity, we will be imposing bias $b=0$**"
      ]
    },
    {
      "cell_type": "markdown",
      "metadata": {
        "id": "4GW299aKovmN"
      },
      "source": [
        "This is what the sigmoid function looks like"
      ]
    },
    {
      "cell_type": "code",
      "execution_count": 54,
      "metadata": {
        "id": "AuuGuOiWovmN",
        "colab": {
          "base_uri": "https://localhost:8080/",
          "height": 481
        },
        "outputId": "1c463531-5f36-458c-9220-4cba3a89cd30"
      },
      "outputs": [
        {
          "output_type": "display_data",
          "data": {
            "text/plain": [
              "<Figure size 640x480 with 1 Axes>"
            ],
            "image/png": "[encoded data removed]"
          },
          "metadata": {}
        }
      ],
      "source": [
        "sigmoid = lambda x: 1/(1+np.exp(-x))\n",
        "\n",
        "x_values = np.linspace(-20,20,1000)\n",
        "y_values = sigmoid(x_values)\n",
        "\n",
        "plt.plot(x_values, y_values)\n",
        "plt.xlabel(\"x\")\n",
        "plt.ylabel(r\"$\\sigma(x)$\")\n",
        "plt.title(r\"Sigmoid function $\\sigma :x \\mapsto \\frac{1}{1+\\exp(-x)}$\")\n",
        "plt.grid()"
      ]
    },
    {
      "cell_type": "code",
      "execution_count": 55,
      "metadata": {
        "id": "IIc9EVLCovmN"
      },
      "outputs": [],
      "source": [
        "def get_x_y_numpy():\n",
        "    def get_one_npy(url):\n",
        "        r = requests.get(url)\n",
        "        data = np.load(BytesIO(r.content))\n",
        "        return data\n",
        "    x_dataset = get_one_npy('https://github.com/uvm-plaid/programming-dp/raw/master/notebooks/adult_processed_x.npy')\n",
        "    y_dataset = get_one_npy('https://github.com/uvm-plaid/programming-dp/raw/master/notebooks/adult_processed_y.npy')\n",
        "    y_dataset[y_dataset==-1]=0\n",
        "    return x_dataset, y_dataset\n",
        "\n",
        "\n",
        "X, y = get_x_y_numpy()"
      ]
    },
    {
      "cell_type": "markdown",
      "metadata": {
        "id": "XsoWhWXEovmN"
      },
      "source": [
        "<font color=\"green\"><b>¿Q?</b>: What is the size of the dataset, what is the dimension of the target $y$?</font>\n"
      ]
    },
    {
      "cell_type": "code",
      "execution_count": 56,
      "metadata": {
        "id": "cZWO-tI2ovmN",
        "colab": {
          "base_uri": "https://localhost:8080/"
        },
        "outputId": "b424ca44-f788-4688-fa13-6d204d239f66"
      },
      "outputs": [
        {
          "output_type": "stream",
          "name": "stdout",
          "text": [
            "4748100\n",
            "(45220, 104)\n",
            "(45220,)\n"
          ]
        }
      ],
      "source": [
        "print(X.size+y.size)\n",
        "print(X.shape)\n",
        "print(y.shape)"
      ]
    },
    {
      "cell_type": "markdown",
      "metadata": {
        "id": "kr8EhwLMovmO"
      },
      "source": [
        "Split the dataset into 80% trainset and 20% testset"
      ]
    },
    {
      "cell_type": "code",
      "execution_count": 57,
      "metadata": {
        "id": "VsVjFKCKovmO",
        "colab": {
          "base_uri": "https://localhost:8080/"
        },
        "outputId": "692bb25d-d8bc-4218-b6a9-f23e68fc0807"
      },
      "outputs": [
        {
          "output_type": "stream",
          "name": "stdout",
          "text": [
            "(36176, 104)\n",
            "(9044, 104)\n",
            "(36176,)\n",
            "(9044,)\n"
          ]
        }
      ],
      "source": [
        "split_index = int(0.8 * X.shape[0])\n",
        "\n",
        "X_train = X[:split_index]\n",
        "X_test = X[split_index:]\n",
        "\n",
        "y_train = y[:split_index]\n",
        "y_test = y[split_index:]\n",
        "\n",
        "print(X_train.shape)\n",
        "print(X_test.shape)\n",
        "print(y_train.shape)\n",
        "print(y_test.shape)"
      ]
    },
    {
      "cell_type": "markdown",
      "metadata": {
        "id": "Nez24153ovmO"
      },
      "source": [
        "Evaluate the accuracy of this model on the test set using the `model.predict` method"
      ]
    },
    {
      "cell_type": "code",
      "source": [
        "from sklearn.linear_model import LogisticRegression\n",
        "\n",
        "model = LogisticRegression()\n",
        "model.fit(X_train, y_train)\n",
        "\n",
        "from sklearn.metrics import accuracy_score\n",
        "\n",
        "y_pred = model.predict(X_test)\n",
        "accuracy = accuracy_score(y_test, y_pred)*100\n",
        "\n",
        "print(f\"Test set accuracy: {accuracy:.4f}%\")"
      ],
      "metadata": {
        "colab": {
          "base_uri": "https://localhost:8080/"
        },
        "id": "QyrgqIC_Q4bR",
        "outputId": "bbb39dc3-5c52-442b-891a-c3a08963c5ed"
      },
      "execution_count": 58,
      "outputs": [
        {
          "output_type": "stream",
          "name": "stdout",
          "text": [
            "Test set accuracy: 84.4870%\n"
          ]
        }
      ]
    },
    {
      "cell_type": "markdown",
      "metadata": {
        "id": "n1Q8JiOJovmO"
      },
      "source": [
        "### Simple gradient descent\n",
        "\n",
        "We will now train our logistic regression ourselves!\n",
        "\n",
        "To do so, we first need to define a **loss function** which we want to minimise.\\\n",
        "We will be using binary crossentropy loss\n",
        "$$\n",
        "\\textit{loss}(f_\\theta(\\mathbb{x_i}),y_i)=-y_i \\log(f_\\theta(\\mathbb{x_i})) - (1-y_i) \\log(1-f_\\theta(\\mathbb{x_i}))$$\n",
        "\n",
        "$$:\n",
        "- if $y_i=0$, $\\textit{loss}(f_\\theta(\\mathbb{x_i}),y_i)=-\\log(f_\\theta(\\mathbb{x_i}))$: reducing the loss indeed makes the output class prediction close to 0; $\\mathbb{P}_\\theta(y=1|\\mathbb{x}) \\to 0 \\implies \\mathbb{P}_\\theta(y=0|\\mathbb{x})\\to1$\n",
        "- if $y_i=1$, $\\textit{loss}(f_\\theta(\\mathbb{x_i}),y_i)=-\\log(1-f_\\theta(\\mathbb{x_i}))$: reducing the loss indeed makes the output class prediction close to 1; ($\\mathbb{P}_\\theta(y=1|\\mathbb{x}) \\to 1$)\n"
      ]
    },
    {
      "cell_type": "code",
      "execution_count": 59,
      "metadata": {
        "id": "W3ruSidtovmO"
      },
      "outputs": [],
      "source": [
        "def initialise_params():\n",
        "    theta = np.random.randn(X.shape[1])\n",
        "    return theta\n",
        "theta = initialise_params()\n",
        "\n",
        "def loss_function(theta, xi, yi):\n",
        "    f_theta = xi.dot(theta)\n",
        "    pred_proba = sigmoid(f_theta)\n",
        "    loss_value = - (yi * np.log(pred_proba) + (1 - yi) * np.log(1 - pred_proba))\n",
        "    return loss_value\n",
        "\n",
        "def output_model(theta,xi):\n",
        "    output = sigmoid(xi.dot(theta))\n",
        "    return output\n",
        "\n",
        "def custom_predict(theta, xi):\n",
        "    output = output_model(theta, xi)\n",
        "    return (output >(1/2)).astype(int)\n",
        "\n",
        "def custom_accuracy(theta, X_test, y_test):\n",
        "    return np.sum(custom_predict(theta, X_test) == y_test)/X_test.shape[0]\n",
        "\n",
        "def gradient(theta, xi, yi):\n",
        "    grad = xi * ((output_model(theta, xi)) -yi)\n",
        "    return grad"
      ]
    },
    {
      "cell_type": "markdown",
      "metadata": {
        "id": "h3CC64HCovmP"
      },
      "source": [
        "<font color=\"green\"><b>¿Q?</b>: Implement gradient descent</font>"
      ]
    },
    {
      "cell_type": "code",
      "execution_count": 60,
      "metadata": {
        "id": "NWMJ9no6ovmP",
        "colab": {
          "base_uri": "https://localhost:8080/"
        },
        "outputId": "7678060d-d7b6-4d20-a940-c674b7a84490"
      },
      "outputs": [
        {
          "output_type": "execute_result",
          "data": {
            "text/plain": [
              "np.float64(0.7320875718708536)"
            ]
          },
          "metadata": {},
          "execution_count": 60
        }
      ],
      "source": [
        "def gradient_descent(iterations, lr, X_train, y_train):\n",
        "    theta = initialise_params()\n",
        "\n",
        "    for it in range(iterations):\n",
        "        gradients = np.zeros_like(theta)\n",
        "\n",
        "        for xi, yi in zip(X_train, y_train):\n",
        "            gradients += gradient(theta, xi, yi)\n",
        "\n",
        "        average_gradient = gradients / X_train.shape[0]\n",
        "        theta = theta - lr * average_gradient\n",
        "\n",
        "    return theta\n",
        "\n",
        "theta = gradient_descent(100,lr=0.1, X_train=X_train, y_train=y_train)\n",
        "\n",
        "custom_accuracy(theta, X_test,y_test)"
      ]
    },
    {
      "cell_type": "markdown",
      "metadata": {
        "id": "xrCC16SrovmP"
      },
      "source": [
        "We will now learn our parameters using **gradient descent**. Here is the learning process:\n",
        "1. Pass batches of the learning data through the model: $f_\\theta(\\mathbb{X})$\n",
        "2. Compute the loss associated to these predictions: $\\textit{loss}(f_\\theta(\\mathbb{x_i}),y_i)=-f_\\theta(\\mathbb{x_i})y_i$\n",
        "3. As we want to minimise this loss, compute the gradient of this loss with respect to the parameters of the model: $\\nabla_\\theta \\textit{loss}(f_\\theta(\\mathbb{x_i}),y_i)$ (the gradient of our model is given below)\n",
        "4. Make the parameters of the model go one step in the direction of dimishing loss: $\\theta_{t+1}=\\theta_t-\\alpha \\nabla_\\theta \\textit{loss}(f_\\theta(\\mathbb{x_i}),y_i)$ where $\\alpha$ is called the \"learning rate\""
      ]
    },
    {
      "cell_type": "markdown",
      "metadata": {
        "id": "rG7ijtTOovmQ"
      },
      "source": [
        "<font color=\"green\"><b>¿Q?</b>: Check that the loss indead is decreasing on one single gradient step:</font>\n"
      ]
    },
    {
      "cell_type": "code",
      "execution_count": 61,
      "metadata": {
        "id": "_rA3TSyuovmQ",
        "colab": {
          "base_uri": "https://localhost:8080/"
        },
        "outputId": "6e62c7d3-5273-4b7e-bfb2-78f6264376c3"
      },
      "outputs": [
        {
          "output_type": "stream",
          "name": "stdout",
          "text": [
            "loss_function(theta,X[0],y[0])=np.float64(3.763789052188776)\n",
            "loss_function(theta,X[0],y[0])=np.float64(2.955568092133568)\n",
            "loss_function(theta,X[0],y[0])=np.float64(2.205432135094703)\n",
            "loss_function(theta,X[0],y[0])=np.float64(1.560807332866453)\n",
            "loss_function(theta,X[0],y[0])=np.float64(1.0682116998609728)\n",
            "loss_function(theta,X[0],y[0])=np.float64(0.7360023937930967)\n",
            "loss_function(theta,X[0],y[0])=np.float64(0.5279859080186228)\n",
            "loss_function(theta,X[0],y[0])=np.float64(0.3981983959628074)\n",
            "loss_function(theta,X[0],y[0])=np.float64(0.31407700248344206)\n",
            "loss_function(theta,X[0],y[0])=np.float64(0.25681072546482736)\n",
            "loss_function(theta,X[0],y[0])=np.float64(0.2159845317923114)\n"
          ]
        }
      ],
      "source": [
        "theta = initialise_params()\n",
        "theta\n",
        "\n",
        "lr = 1e-1\n",
        "\n",
        "print(f\"{loss_function(theta,X[0],y[0])=}\")\n",
        "for it in range(10):\n",
        "# theta=np.zeros_like(theta)\n",
        "\n",
        "    theta-=lr*gradient(theta,X[0],y[0])\n",
        "\n",
        "    print(f\"{loss_function(theta,X[0],y[0])=}\")\n"
      ]
    },
    {
      "cell_type": "markdown",
      "metadata": {
        "id": "sI_xMA-5ovmQ"
      },
      "source": [
        "## 3.4 Differentially private gradient descent\n",
        "\n",
        "<font color=\"green\"><b>¿Q?</b>: **Implement a differentialy private gradient descent**</font>\n",
        "\n",
        "\n",
        "\n",
        "1. Pass batches of the learning data through the model: $f_\\theta(\\mathbb{X})$\n",
        "2. Compute the loss associated to these predictions: $\\textit{loss}(f_\\theta(\\mathbb{x_i}),y_i)=-f_\\theta(\\mathbb{x_i})y_i$\n",
        "3. Compute the gradient of this loss with respect to the parameters of the model: $\\nabla_\\theta \\textit{loss}(f_\\theta(\\mathbb{x_i}),y_i)$\n",
        "4. Clip the gradient to avoid samples to effect the gradient in to significative way\n",
        "5. Add some Laplacian noise to the gradient, scaled to the $\\frac{\\text{sensitivity}}{\\epsilon}$\n",
        "4. Make the parameters of the model go one step in the direction of dimishing loss: $\\theta_{t+1}=\\theta_t-\\alpha (\\nabla_\\theta \\textit{loss}(f_\\theta(\\mathbb{x_i}),y_i) + \\text{noise})$ where $\\alpha$ is called the \"learning rate\""
      ]
    },
    {
      "cell_type": "markdown",
      "metadata": {
        "id": "8ycj2GPcovmR"
      },
      "source": [
        "<font color=\"green\"><b>¿Q?</b>: Implement clip function that returns the initial value $z$ if $\\Vert z \\Vert_2<\\text{threshold}$ and a scaled version of norm=threshold if $\\Vert z \\Vert_2\\geq\\text{threshold}$</font>"
      ]
    },
    {
      "cell_type": "code",
      "execution_count": 62,
      "metadata": {
        "id": "S4fSW6MRovmR"
      },
      "outputs": [],
      "source": [
        "def clip_gradient(grad, threshold):\n",
        "    norm = np.linalg.norm(grad)\n",
        "\n",
        "    if norm > threshold:\n",
        "        return grad * (threshold / norm)\n",
        "    else:\n",
        "        return grad\n",
        "\n",
        "def epsilon_dp_gradient_descent(iterations, lr, epsilon, threshold, X_train, y_train):\n",
        "    theta = initialise_params()\n",
        "\n",
        "    for it in range(iterations):\n",
        "        grads = []\n",
        "\n",
        "        for xi, yi in zip(X_train, y_train):\n",
        "            grad_i = gradient(theta, xi, yi)\n",
        "            clipped = clip_gradient(grad_i, threshold)\n",
        "            grads.append(clipped)\n",
        "\n",
        "        average_gradient = np.mean(grads, axis=0)\n",
        "\n",
        "        sensitivity = threshold / X_train.shape[0]\n",
        "        noise = np.random.laplace(loc=0, scale=sensitivity/epsilon, size=theta.shape)\n",
        "\n",
        "        noisy_gradient = average_gradient + noise\n",
        "\n",
        "        theta = theta - lr * noisy_gradient\n",
        "\n",
        "    return theta"
      ]
    },
    {
      "cell_type": "markdown",
      "metadata": {
        "id": "Wmh6QEtbovmS"
      },
      "source": [
        "<font color=\"green\"><b>¿Q?</b>: Run your DP gradient descent algorithm</font>"
      ]
    },
    {
      "cell_type": "code",
      "execution_count": 63,
      "metadata": {
        "id": "DovhAiFJovmS",
        "colab": {
          "base_uri": "https://localhost:8080/"
        },
        "outputId": "43b6338d-cbe2-4898-b47e-4fbe6659b0ec"
      },
      "outputs": [
        {
          "output_type": "execute_result",
          "data": {
            "text/plain": [
              "np.float64(0.6687306501547987)"
            ]
          },
          "metadata": {},
          "execution_count": 63
        }
      ],
      "source": [
        "iterations = 30\n",
        "threshold = 1\n",
        "epsilon=1\n",
        "\n",
        "dp_theta = epsilon_dp_gradient_descent(iterations, lr, epsilon, threshold, X_train, y_train)\n",
        "\n",
        "custom_accuracy(dp_theta, X_test,y_test)"
      ]
    },
    {
      "cell_type": "markdown",
      "metadata": {
        "id": "Qph86aZHovmT"
      },
      "source": [
        "<font color=\"green\"><b>¿Q?</b>: What are the effect both on the accuracy of the model and on its privacy of using larger privacy budget $\\epsilon$?</font>\n"
      ]
    },
    {
      "cell_type": "code",
      "execution_count": 64,
      "metadata": {
        "id": "5JxEgBeyovmU",
        "colab": {
          "base_uri": "https://localhost:8080/"
        },
        "outputId": "c999e923-639e-42b3-a660-196a25c44fce"
      },
      "outputs": [
        {
          "output_type": "execute_result",
          "data": {
            "text/plain": [
              "Ellipsis"
            ]
          },
          "metadata": {},
          "execution_count": 64
        }
      ],
      "source": [
        "..."
      ]
    },
    {
      "cell_type": "markdown",
      "source": [
        "**[Vinicius] :** When we increase the privacy budget ε, the noise added to the gradients becomes smaller. This usually improves the model's accuracy, as the updates are closer to the true gradients. However, it also means that the privacy guarantee becomes weaker, since the mechanism becomes more sensitive to individual data points.\n",
        "\n",
        "In summary: larger ε improves accuracy but reduces privacy, while smaller ε improves privacy but may harm the model's performance."
      ],
      "metadata": {
        "id": "ypnBec5iTlNE"
      }
    }
  ],
  "metadata": {
    "kernelspec": {
      "display_name": "venvSecuriteIA",
      "language": "python",
      "name": "python3"
    },
    "language_info": {
      "codemirror_mode": {
        "name": "ipython",
        "version": 3
      },
      "file_extension": ".py",
      "mimetype": "text/x-python",
      "name": "python",
      "nbconvert_exporter": "python",
      "pygments_lexer": "ipython3",
      "version": "3.11.5"
    },
    "orig_nbformat": 4,
    "colab": {
      "provenance": []
    }
  },
  "nbformat": 4,
  "nbformat_minor": 0
}